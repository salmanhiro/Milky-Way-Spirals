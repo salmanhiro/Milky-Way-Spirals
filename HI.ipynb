{
 "cells": [
  {
   "cell_type": "code",
   "execution_count": 2,
   "metadata": {},
   "outputs": [],
   "source": [
    "import numpy as np\n",
    "import matplotlib.pyplot as plt\n",
    "import seaborn as sns\n",
    "import pandas as pd\n",
    "import os"
   ]
  },
  {
   "cell_type": "code",
   "execution_count": 5,
   "metadata": {},
   "outputs": [],
   "source": [
    "for i in range (0,361):\n",
    "    n = 4\n",
    "    nfirstlines = []\n",
    "    inputfile = 'data_hi/hi_l-'+str(i)+'_b-0.txt'\n",
    "    outputfile = 'data_hi/clean/hi_l-'+str(i)+'_b-0.txt'\n",
    "    with open(inputfile) as f, open(outputfile, \"w\") as out:\n",
    "        for x in range(n):\n",
    "            nfirstlines.append(next(f))\n",
    "        for line in f:\n",
    "            out.write(line)\n",
    "\n",
    "# NB : it seems that `os.rename()` complains on some systems\n",
    "# if the destination file already exists.\n",
    "#os.remove(\"data_hi/hi_l-0_b-0.txt\")\n",
    "#os.rename(\"bigfiletmp.txt\", \"bigfile.txt\")"
   ]
  },
  {
   "cell_type": "code",
   "execution_count": 6,
   "metadata": {},
   "outputs": [],
   "source": [
    "for i in range (0,361):\n",
    "    n = 3\n",
    "    nfirstlines = []\n",
    "    inputfile = 'data_rotasi/rotation_b-0_l-'+str(i)+'.txt'\n",
    "    outputfile = 'data_rotasi/clean/rotation_b-0_l-'+str(i)+'.txt'\n",
    "    with open(inputfile) as f, open(outputfile, \"w\") as out:\n",
    "        for x in range(n):\n",
    "            nfirstlines.append(next(f))\n",
    "        for line in f:\n",
    "            out.write(line)\n"
   ]
  },
  {
   "cell_type": "code",
   "execution_count": 12,
   "metadata": {},
   "outputs": [
    {
     "data": {
      "text/plain": [
       "<Figure size 432x288 with 0 Axes>"
      ]
     },
     "metadata": {},
     "output_type": "display_data"
    },
    {
     "data": {
      "text/plain": [
       "<Figure size 432x288 with 0 Axes>"
      ]
     },
     "metadata": {},
     "output_type": "display_data"
    },
    {
     "data": {
      "text/plain": [
       "<Figure size 432x288 with 0 Axes>"
      ]
     },
     "metadata": {},
     "output_type": "display_data"
    },
    {
     "data": {
      "text/plain": [
       "<Figure size 432x288 with 0 Axes>"
      ]
     },
     "metadata": {},
     "output_type": "display_data"
    },
    {
     "data": {
      "text/plain": [
       "<Figure size 432x288 with 0 Axes>"
      ]
     },
     "metadata": {},
     "output_type": "display_data"
    },
    {
     "data": {
      "text/plain": [
       "<Figure size 432x288 with 0 Axes>"
      ]
     },
     "metadata": {},
     "output_type": "display_data"
    },
    {
     "data": {
      "text/plain": [
       "<Figure size 432x288 with 0 Axes>"
      ]
     },
     "metadata": {},
     "output_type": "display_data"
    },
    {
     "data": {
      "text/plain": [
       "<Figure size 432x288 with 0 Axes>"
      ]
     },
     "metadata": {},
     "output_type": "display_data"
    },
    {
     "data": {
      "text/plain": [
       "<Figure size 432x288 with 0 Axes>"
      ]
     },
     "metadata": {},
     "output_type": "display_data"
    },
    {
     "data": {
      "text/plain": [
       "<Figure size 432x288 with 0 Axes>"
      ]
     },
     "metadata": {},
     "output_type": "display_data"
    },
    {
     "data": {
      "text/plain": [
       "<Figure size 432x288 with 0 Axes>"
      ]
     },
     "metadata": {},
     "output_type": "display_data"
    },
    {
     "data": {
      "text/plain": [
       "<Figure size 432x288 with 0 Axes>"
      ]
     },
     "metadata": {},
     "output_type": "display_data"
    },
    {
     "data": {
      "text/plain": [
       "<Figure size 432x288 with 0 Axes>"
      ]
     },
     "metadata": {},
     "output_type": "display_data"
    },
    {
     "data": {
      "text/plain": [
       "<Figure size 432x288 with 0 Axes>"
      ]
     },
     "metadata": {},
     "output_type": "display_data"
    },
    {
     "data": {
      "text/plain": [
       "<Figure size 432x288 with 0 Axes>"
      ]
     },
     "metadata": {},
     "output_type": "display_data"
    },
    {
     "data": {
      "text/plain": [
       "<Figure size 432x288 with 0 Axes>"
      ]
     },
     "metadata": {},
     "output_type": "display_data"
    },
    {
     "data": {
      "text/plain": [
       "<Figure size 432x288 with 0 Axes>"
      ]
     },
     "metadata": {},
     "output_type": "display_data"
    },
    {
     "data": {
      "text/plain": [
       "<Figure size 432x288 with 0 Axes>"
      ]
     },
     "metadata": {},
     "output_type": "display_data"
    },
    {
     "data": {
      "text/plain": [
       "<Figure size 432x288 with 0 Axes>"
      ]
     },
     "metadata": {},
     "output_type": "display_data"
    },
    {
     "data": {
      "text/plain": [
       "<Figure size 432x288 with 0 Axes>"
      ]
     },
     "metadata": {},
     "output_type": "display_data"
    },
    {
     "data": {
      "text/plain": [
       "<Figure size 432x288 with 0 Axes>"
      ]
     },
     "metadata": {},
     "output_type": "display_data"
    },
    {
     "data": {
      "text/plain": [
       "<Figure size 432x288 with 0 Axes>"
      ]
     },
     "metadata": {},
     "output_type": "display_data"
    },
    {
     "data": {
      "text/plain": [
       "<Figure size 432x288 with 0 Axes>"
      ]
     },
     "metadata": {},
     "output_type": "display_data"
    },
    {
     "data": {
      "text/plain": [
       "<Figure size 432x288 with 0 Axes>"
      ]
     },
     "metadata": {},
     "output_type": "display_data"
    },
    {
     "data": {
      "text/plain": [
       "<Figure size 432x288 with 0 Axes>"
      ]
     },
     "metadata": {},
     "output_type": "display_data"
    },
    {
     "data": {
      "text/plain": [
       "<Figure size 432x288 with 0 Axes>"
      ]
     },
     "metadata": {},
     "output_type": "display_data"
    },
    {
     "data": {
      "text/plain": [
       "<Figure size 432x288 with 0 Axes>"
      ]
     },
     "metadata": {},
     "output_type": "display_data"
    },
    {
     "data": {
      "text/plain": [
       "<Figure size 432x288 with 0 Axes>"
      ]
     },
     "metadata": {},
     "output_type": "display_data"
    },
    {
     "data": {
      "text/plain": [
       "<Figure size 432x288 with 0 Axes>"
      ]
     },
     "metadata": {},
     "output_type": "display_data"
    },
    {
     "data": {
      "text/plain": [
       "<Figure size 432x288 with 0 Axes>"
      ]
     },
     "metadata": {},
     "output_type": "display_data"
    },
    {
     "data": {
      "text/plain": [
       "<Figure size 432x288 with 0 Axes>"
      ]
     },
     "metadata": {},
     "output_type": "display_data"
    },
    {
     "data": {
      "text/plain": [
       "<Figure size 432x288 with 0 Axes>"
      ]
     },
     "metadata": {},
     "output_type": "display_data"
    },
    {
     "data": {
      "text/plain": [
       "<Figure size 432x288 with 0 Axes>"
      ]
     },
     "metadata": {},
     "output_type": "display_data"
    },
    {
     "data": {
      "text/plain": [
       "<Figure size 432x288 with 0 Axes>"
      ]
     },
     "metadata": {},
     "output_type": "display_data"
    },
    {
     "data": {
      "text/plain": [
       "<Figure size 432x288 with 0 Axes>"
      ]
     },
     "metadata": {},
     "output_type": "display_data"
    },
    {
     "data": {
      "text/plain": [
       "<Figure size 432x288 with 0 Axes>"
      ]
     },
     "metadata": {},
     "output_type": "display_data"
    },
    {
     "data": {
      "text/plain": [
       "<Figure size 432x288 with 0 Axes>"
      ]
     },
     "metadata": {},
     "output_type": "display_data"
    },
    {
     "data": {
      "text/plain": [
       "<Figure size 432x288 with 0 Axes>"
      ]
     },
     "metadata": {},
     "output_type": "display_data"
    },
    {
     "data": {
      "text/plain": [
       "<Figure size 432x288 with 0 Axes>"
      ]
     },
     "metadata": {},
     "output_type": "display_data"
    },
    {
     "data": {
      "text/plain": [
       "<Figure size 432x288 with 0 Axes>"
      ]
     },
     "metadata": {},
     "output_type": "display_data"
    },
    {
     "data": {
      "text/plain": [
       "<Figure size 432x288 with 0 Axes>"
      ]
     },
     "metadata": {},
     "output_type": "display_data"
    },
    {
     "data": {
      "text/plain": [
       "<Figure size 432x288 with 0 Axes>"
      ]
     },
     "metadata": {},
     "output_type": "display_data"
    },
    {
     "data": {
      "text/plain": [
       "<Figure size 432x288 with 0 Axes>"
      ]
     },
     "metadata": {},
     "output_type": "display_data"
    },
    {
     "data": {
      "text/plain": [
       "<Figure size 432x288 with 0 Axes>"
      ]
     },
     "metadata": {},
     "output_type": "display_data"
    },
    {
     "data": {
      "text/plain": [
       "<Figure size 432x288 with 0 Axes>"
      ]
     },
     "metadata": {},
     "output_type": "display_data"
    },
    {
     "data": {
      "text/plain": [
       "<Figure size 432x288 with 0 Axes>"
      ]
     },
     "metadata": {},
     "output_type": "display_data"
    },
    {
     "data": {
      "text/plain": [
       "<Figure size 432x288 with 0 Axes>"
      ]
     },
     "metadata": {},
     "output_type": "display_data"
    },
    {
     "data": {
      "text/plain": [
       "<Figure size 432x288 with 0 Axes>"
      ]
     },
     "metadata": {},
     "output_type": "display_data"
    },
    {
     "data": {
      "text/plain": [
       "<Figure size 432x288 with 0 Axes>"
      ]
     },
     "metadata": {},
     "output_type": "display_data"
    },
    {
     "data": {
      "text/plain": [
       "<Figure size 432x288 with 0 Axes>"
      ]
     },
     "metadata": {},
     "output_type": "display_data"
    },
    {
     "data": {
      "text/plain": [
       "<Figure size 432x288 with 0 Axes>"
      ]
     },
     "metadata": {},
     "output_type": "display_data"
    },
    {
     "data": {
      "text/plain": [
       "<Figure size 432x288 with 0 Axes>"
      ]
     },
     "metadata": {},
     "output_type": "display_data"
    },
    {
     "data": {
      "text/plain": [
       "<Figure size 432x288 with 0 Axes>"
      ]
     },
     "metadata": {},
     "output_type": "display_data"
    },
    {
     "data": {
      "text/plain": [
       "<Figure size 432x288 with 0 Axes>"
      ]
     },
     "metadata": {},
     "output_type": "display_data"
    },
    {
     "data": {
      "text/plain": [
       "<Figure size 432x288 with 0 Axes>"
      ]
     },
     "metadata": {},
     "output_type": "display_data"
    },
    {
     "data": {
      "text/plain": [
       "<Figure size 432x288 with 0 Axes>"
      ]
     },
     "metadata": {},
     "output_type": "display_data"
    },
    {
     "data": {
      "text/plain": [
       "<Figure size 432x288 with 0 Axes>"
      ]
     },
     "metadata": {},
     "output_type": "display_data"
    },
    {
     "data": {
      "text/plain": [
       "<Figure size 432x288 with 0 Axes>"
      ]
     },
     "metadata": {},
     "output_type": "display_data"
    },
    {
     "data": {
      "text/plain": [
       "<Figure size 432x288 with 0 Axes>"
      ]
     },
     "metadata": {},
     "output_type": "display_data"
    },
    {
     "data": {
      "text/plain": [
       "<Figure size 432x288 with 0 Axes>"
      ]
     },
     "metadata": {},
     "output_type": "display_data"
    },
    {
     "data": {
      "text/plain": [
       "<Figure size 432x288 with 0 Axes>"
      ]
     },
     "metadata": {},
     "output_type": "display_data"
    },
    {
     "data": {
      "text/plain": [
       "<Figure size 432x288 with 0 Axes>"
      ]
     },
     "metadata": {},
     "output_type": "display_data"
    },
    {
     "data": {
      "text/plain": [
       "<Figure size 432x288 with 0 Axes>"
      ]
     },
     "metadata": {},
     "output_type": "display_data"
    },
    {
     "data": {
      "text/plain": [
       "<Figure size 432x288 with 0 Axes>"
      ]
     },
     "metadata": {},
     "output_type": "display_data"
    },
    {
     "data": {
      "text/plain": [
       "<Figure size 432x288 with 0 Axes>"
      ]
     },
     "metadata": {},
     "output_type": "display_data"
    },
    {
     "data": {
      "text/plain": [
       "<Figure size 432x288 with 0 Axes>"
      ]
     },
     "metadata": {},
     "output_type": "display_data"
    },
    {
     "data": {
      "text/plain": [
       "<Figure size 432x288 with 0 Axes>"
      ]
     },
     "metadata": {},
     "output_type": "display_data"
    },
    {
     "data": {
      "text/plain": [
       "<Figure size 432x288 with 0 Axes>"
      ]
     },
     "metadata": {},
     "output_type": "display_data"
    },
    {
     "data": {
      "text/plain": [
       "<Figure size 432x288 with 0 Axes>"
      ]
     },
     "metadata": {},
     "output_type": "display_data"
    },
    {
     "data": {
      "text/plain": [
       "<Figure size 432x288 with 0 Axes>"
      ]
     },
     "metadata": {},
     "output_type": "display_data"
    },
    {
     "data": {
      "text/plain": [
       "<Figure size 432x288 with 0 Axes>"
      ]
     },
     "metadata": {},
     "output_type": "display_data"
    },
    {
     "data": {
      "text/plain": [
       "<Figure size 432x288 with 0 Axes>"
      ]
     },
     "metadata": {},
     "output_type": "display_data"
    },
    {
     "data": {
      "text/plain": [
       "<Figure size 432x288 with 0 Axes>"
      ]
     },
     "metadata": {},
     "output_type": "display_data"
    },
    {
     "data": {
      "text/plain": [
       "<Figure size 432x288 with 0 Axes>"
      ]
     },
     "metadata": {},
     "output_type": "display_data"
    },
    {
     "data": {
      "text/plain": [
       "<Figure size 432x288 with 0 Axes>"
      ]
     },
     "metadata": {},
     "output_type": "display_data"
    },
    {
     "data": {
      "text/plain": [
       "<Figure size 432x288 with 0 Axes>"
      ]
     },
     "metadata": {},
     "output_type": "display_data"
    },
    {
     "data": {
      "text/plain": [
       "<Figure size 432x288 with 0 Axes>"
      ]
     },
     "metadata": {},
     "output_type": "display_data"
    },
    {
     "data": {
      "text/plain": [
       "<Figure size 432x288 with 0 Axes>"
      ]
     },
     "metadata": {},
     "output_type": "display_data"
    },
    {
     "data": {
      "text/plain": [
       "<Figure size 432x288 with 0 Axes>"
      ]
     },
     "metadata": {},
     "output_type": "display_data"
    },
    {
     "data": {
      "text/plain": [
       "<Figure size 432x288 with 0 Axes>"
      ]
     },
     "metadata": {},
     "output_type": "display_data"
    },
    {
     "data": {
      "text/plain": [
       "<Figure size 432x288 with 0 Axes>"
      ]
     },
     "metadata": {},
     "output_type": "display_data"
    },
    {
     "data": {
      "text/plain": [
       "<Figure size 432x288 with 0 Axes>"
      ]
     },
     "metadata": {},
     "output_type": "display_data"
    },
    {
     "data": {
      "text/plain": [
       "<Figure size 432x288 with 0 Axes>"
      ]
     },
     "metadata": {},
     "output_type": "display_data"
    },
    {
     "data": {
      "text/plain": [
       "<Figure size 432x288 with 0 Axes>"
      ]
     },
     "metadata": {},
     "output_type": "display_data"
    },
    {
     "data": {
      "text/plain": [
       "<Figure size 432x288 with 0 Axes>"
      ]
     },
     "metadata": {},
     "output_type": "display_data"
    },
    {
     "data": {
      "text/plain": [
       "<Figure size 432x288 with 0 Axes>"
      ]
     },
     "metadata": {},
     "output_type": "display_data"
    },
    {
     "data": {
      "text/plain": [
       "<Figure size 432x288 with 0 Axes>"
      ]
     },
     "metadata": {},
     "output_type": "display_data"
    },
    {
     "data": {
      "text/plain": [
       "<Figure size 432x288 with 0 Axes>"
      ]
     },
     "metadata": {},
     "output_type": "display_data"
    },
    {
     "data": {
      "text/plain": [
       "<Figure size 432x288 with 0 Axes>"
      ]
     },
     "metadata": {},
     "output_type": "display_data"
    },
    {
     "data": {
      "text/plain": [
       "<Figure size 432x288 with 0 Axes>"
      ]
     },
     "metadata": {},
     "output_type": "display_data"
    },
    {
     "data": {
      "text/plain": [
       "<Figure size 432x288 with 0 Axes>"
      ]
     },
     "metadata": {},
     "output_type": "display_data"
    },
    {
     "data": {
      "text/plain": [
       "<Figure size 432x288 with 0 Axes>"
      ]
     },
     "metadata": {},
     "output_type": "display_data"
    },
    {
     "data": {
      "text/plain": [
       "<Figure size 432x288 with 0 Axes>"
      ]
     },
     "metadata": {},
     "output_type": "display_data"
    },
    {
     "data": {
      "text/plain": [
       "<Figure size 432x288 with 0 Axes>"
      ]
     },
     "metadata": {},
     "output_type": "display_data"
    },
    {
     "data": {
      "text/plain": [
       "<Figure size 432x288 with 0 Axes>"
      ]
     },
     "metadata": {},
     "output_type": "display_data"
    },
    {
     "data": {
      "text/plain": [
       "<Figure size 432x288 with 0 Axes>"
      ]
     },
     "metadata": {},
     "output_type": "display_data"
    },
    {
     "data": {
      "text/plain": [
       "<Figure size 432x288 with 0 Axes>"
      ]
     },
     "metadata": {},
     "output_type": "display_data"
    },
    {
     "data": {
      "text/plain": [
       "<Figure size 432x288 with 0 Axes>"
      ]
     },
     "metadata": {},
     "output_type": "display_data"
    },
    {
     "data": {
      "text/plain": [
       "<Figure size 432x288 with 0 Axes>"
      ]
     },
     "metadata": {},
     "output_type": "display_data"
    },
    {
     "data": {
      "text/plain": [
       "<Figure size 432x288 with 0 Axes>"
      ]
     },
     "metadata": {},
     "output_type": "display_data"
    },
    {
     "data": {
      "text/plain": [
       "<Figure size 432x288 with 0 Axes>"
      ]
     },
     "metadata": {},
     "output_type": "display_data"
    },
    {
     "data": {
      "text/plain": [
       "<Figure size 432x288 with 0 Axes>"
      ]
     },
     "metadata": {},
     "output_type": "display_data"
    },
    {
     "data": {
      "text/plain": [
       "<Figure size 432x288 with 0 Axes>"
      ]
     },
     "metadata": {},
     "output_type": "display_data"
    },
    {
     "data": {
      "text/plain": [
       "<Figure size 432x288 with 0 Axes>"
      ]
     },
     "metadata": {},
     "output_type": "display_data"
    },
    {
     "data": {
      "text/plain": [
       "<Figure size 432x288 with 0 Axes>"
      ]
     },
     "metadata": {},
     "output_type": "display_data"
    },
    {
     "data": {
      "text/plain": [
       "<Figure size 432x288 with 0 Axes>"
      ]
     },
     "metadata": {},
     "output_type": "display_data"
    },
    {
     "data": {
      "text/plain": [
       "<Figure size 432x288 with 0 Axes>"
      ]
     },
     "metadata": {},
     "output_type": "display_data"
    },
    {
     "data": {
      "text/plain": [
       "<Figure size 432x288 with 0 Axes>"
      ]
     },
     "metadata": {},
     "output_type": "display_data"
    },
    {
     "data": {
      "text/plain": [
       "<Figure size 432x288 with 0 Axes>"
      ]
     },
     "metadata": {},
     "output_type": "display_data"
    },
    {
     "data": {
      "text/plain": [
       "<Figure size 432x288 with 0 Axes>"
      ]
     },
     "metadata": {},
     "output_type": "display_data"
    },
    {
     "data": {
      "text/plain": [
       "<Figure size 432x288 with 0 Axes>"
      ]
     },
     "metadata": {},
     "output_type": "display_data"
    },
    {
     "data": {
      "text/plain": [
       "<Figure size 432x288 with 0 Axes>"
      ]
     },
     "metadata": {},
     "output_type": "display_data"
    },
    {
     "data": {
      "text/plain": [
       "<Figure size 432x288 with 0 Axes>"
      ]
     },
     "metadata": {},
     "output_type": "display_data"
    },
    {
     "data": {
      "text/plain": [
       "<Figure size 432x288 with 0 Axes>"
      ]
     },
     "metadata": {},
     "output_type": "display_data"
    },
    {
     "data": {
      "text/plain": [
       "<Figure size 432x288 with 0 Axes>"
      ]
     },
     "metadata": {},
     "output_type": "display_data"
    },
    {
     "data": {
      "text/plain": [
       "<Figure size 432x288 with 0 Axes>"
      ]
     },
     "metadata": {},
     "output_type": "display_data"
    },
    {
     "data": {
      "text/plain": [
       "<Figure size 432x288 with 0 Axes>"
      ]
     },
     "metadata": {},
     "output_type": "display_data"
    },
    {
     "data": {
      "text/plain": [
       "<Figure size 432x288 with 0 Axes>"
      ]
     },
     "metadata": {},
     "output_type": "display_data"
    },
    {
     "data": {
      "text/plain": [
       "<Figure size 432x288 with 0 Axes>"
      ]
     },
     "metadata": {},
     "output_type": "display_data"
    },
    {
     "data": {
      "text/plain": [
       "<Figure size 432x288 with 0 Axes>"
      ]
     },
     "metadata": {},
     "output_type": "display_data"
    },
    {
     "data": {
      "text/plain": [
       "<Figure size 432x288 with 0 Axes>"
      ]
     },
     "metadata": {},
     "output_type": "display_data"
    },
    {
     "data": {
      "text/plain": [
       "<Figure size 432x288 with 0 Axes>"
      ]
     },
     "metadata": {},
     "output_type": "display_data"
    },
    {
     "data": {
      "text/plain": [
       "<Figure size 432x288 with 0 Axes>"
      ]
     },
     "metadata": {},
     "output_type": "display_data"
    },
    {
     "data": {
      "text/plain": [
       "<Figure size 432x288 with 0 Axes>"
      ]
     },
     "metadata": {},
     "output_type": "display_data"
    },
    {
     "data": {
      "text/plain": [
       "<Figure size 432x288 with 0 Axes>"
      ]
     },
     "metadata": {},
     "output_type": "display_data"
    },
    {
     "data": {
      "text/plain": [
       "<Figure size 432x288 with 0 Axes>"
      ]
     },
     "metadata": {},
     "output_type": "display_data"
    },
    {
     "data": {
      "text/plain": [
       "<Figure size 432x288 with 0 Axes>"
      ]
     },
     "metadata": {},
     "output_type": "display_data"
    },
    {
     "data": {
      "text/plain": [
       "<Figure size 432x288 with 0 Axes>"
      ]
     },
     "metadata": {},
     "output_type": "display_data"
    },
    {
     "data": {
      "text/plain": [
       "<Figure size 432x288 with 0 Axes>"
      ]
     },
     "metadata": {},
     "output_type": "display_data"
    },
    {
     "data": {
      "text/plain": [
       "<Figure size 432x288 with 0 Axes>"
      ]
     },
     "metadata": {},
     "output_type": "display_data"
    },
    {
     "data": {
      "text/plain": [
       "<Figure size 432x288 with 0 Axes>"
      ]
     },
     "metadata": {},
     "output_type": "display_data"
    },
    {
     "data": {
      "text/plain": [
       "<Figure size 432x288 with 0 Axes>"
      ]
     },
     "metadata": {},
     "output_type": "display_data"
    },
    {
     "data": {
      "text/plain": [
       "<Figure size 432x288 with 0 Axes>"
      ]
     },
     "metadata": {},
     "output_type": "display_data"
    },
    {
     "data": {
      "text/plain": [
       "<Figure size 432x288 with 0 Axes>"
      ]
     },
     "metadata": {},
     "output_type": "display_data"
    },
    {
     "data": {
      "text/plain": [
       "<Figure size 432x288 with 0 Axes>"
      ]
     },
     "metadata": {},
     "output_type": "display_data"
    },
    {
     "data": {
      "text/plain": [
       "<Figure size 432x288 with 0 Axes>"
      ]
     },
     "metadata": {},
     "output_type": "display_data"
    },
    {
     "data": {
      "text/plain": [
       "<Figure size 432x288 with 0 Axes>"
      ]
     },
     "metadata": {},
     "output_type": "display_data"
    },
    {
     "data": {
      "text/plain": [
       "<Figure size 432x288 with 0 Axes>"
      ]
     },
     "metadata": {},
     "output_type": "display_data"
    },
    {
     "data": {
      "text/plain": [
       "<Figure size 432x288 with 0 Axes>"
      ]
     },
     "metadata": {},
     "output_type": "display_data"
    },
    {
     "data": {
      "text/plain": [
       "<Figure size 432x288 with 0 Axes>"
      ]
     },
     "metadata": {},
     "output_type": "display_data"
    },
    {
     "data": {
      "text/plain": [
       "<Figure size 432x288 with 0 Axes>"
      ]
     },
     "metadata": {},
     "output_type": "display_data"
    },
    {
     "data": {
      "text/plain": [
       "<Figure size 432x288 with 0 Axes>"
      ]
     },
     "metadata": {},
     "output_type": "display_data"
    },
    {
     "data": {
      "text/plain": [
       "<Figure size 432x288 with 0 Axes>"
      ]
     },
     "metadata": {},
     "output_type": "display_data"
    },
    {
     "data": {
      "text/plain": [
       "<Figure size 432x288 with 0 Axes>"
      ]
     },
     "metadata": {},
     "output_type": "display_data"
    },
    {
     "data": {
      "text/plain": [
       "<Figure size 432x288 with 0 Axes>"
      ]
     },
     "metadata": {},
     "output_type": "display_data"
    },
    {
     "data": {
      "text/plain": [
       "<Figure size 432x288 with 0 Axes>"
      ]
     },
     "metadata": {},
     "output_type": "display_data"
    },
    {
     "data": {
      "text/plain": [
       "<Figure size 432x288 with 0 Axes>"
      ]
     },
     "metadata": {},
     "output_type": "display_data"
    },
    {
     "data": {
      "text/plain": [
       "<Figure size 432x288 with 0 Axes>"
      ]
     },
     "metadata": {},
     "output_type": "display_data"
    },
    {
     "data": {
      "text/plain": [
       "<Figure size 432x288 with 0 Axes>"
      ]
     },
     "metadata": {},
     "output_type": "display_data"
    },
    {
     "data": {
      "text/plain": [
       "<Figure size 432x288 with 0 Axes>"
      ]
     },
     "metadata": {},
     "output_type": "display_data"
    },
    {
     "data": {
      "text/plain": [
       "<Figure size 432x288 with 0 Axes>"
      ]
     },
     "metadata": {},
     "output_type": "display_data"
    },
    {
     "data": {
      "text/plain": [
       "<Figure size 432x288 with 0 Axes>"
      ]
     },
     "metadata": {},
     "output_type": "display_data"
    },
    {
     "data": {
      "text/plain": [
       "<Figure size 432x288 with 0 Axes>"
      ]
     },
     "metadata": {},
     "output_type": "display_data"
    },
    {
     "data": {
      "text/plain": [
       "<Figure size 432x288 with 0 Axes>"
      ]
     },
     "metadata": {},
     "output_type": "display_data"
    },
    {
     "data": {
      "text/plain": [
       "<Figure size 432x288 with 0 Axes>"
      ]
     },
     "metadata": {},
     "output_type": "display_data"
    },
    {
     "data": {
      "text/plain": [
       "<Figure size 432x288 with 0 Axes>"
      ]
     },
     "metadata": {},
     "output_type": "display_data"
    },
    {
     "data": {
      "text/plain": [
       "<Figure size 432x288 with 0 Axes>"
      ]
     },
     "metadata": {},
     "output_type": "display_data"
    },
    {
     "data": {
      "text/plain": [
       "<Figure size 432x288 with 0 Axes>"
      ]
     },
     "metadata": {},
     "output_type": "display_data"
    },
    {
     "data": {
      "text/plain": [
       "<Figure size 432x288 with 0 Axes>"
      ]
     },
     "metadata": {},
     "output_type": "display_data"
    },
    {
     "data": {
      "text/plain": [
       "<Figure size 432x288 with 0 Axes>"
      ]
     },
     "metadata": {},
     "output_type": "display_data"
    },
    {
     "data": {
      "text/plain": [
       "<Figure size 432x288 with 0 Axes>"
      ]
     },
     "metadata": {},
     "output_type": "display_data"
    },
    {
     "data": {
      "text/plain": [
       "<Figure size 432x288 with 0 Axes>"
      ]
     },
     "metadata": {},
     "output_type": "display_data"
    },
    {
     "data": {
      "text/plain": [
       "<Figure size 432x288 with 0 Axes>"
      ]
     },
     "metadata": {},
     "output_type": "display_data"
    },
    {
     "data": {
      "text/plain": [
       "<Figure size 432x288 with 0 Axes>"
      ]
     },
     "metadata": {},
     "output_type": "display_data"
    },
    {
     "data": {
      "text/plain": [
       "<Figure size 432x288 with 0 Axes>"
      ]
     },
     "metadata": {},
     "output_type": "display_data"
    },
    {
     "data": {
      "text/plain": [
       "<Figure size 432x288 with 0 Axes>"
      ]
     },
     "metadata": {},
     "output_type": "display_data"
    },
    {
     "data": {
      "text/plain": [
       "<Figure size 432x288 with 0 Axes>"
      ]
     },
     "metadata": {},
     "output_type": "display_data"
    },
    {
     "data": {
      "text/plain": [
       "<Figure size 432x288 with 0 Axes>"
      ]
     },
     "metadata": {},
     "output_type": "display_data"
    },
    {
     "data": {
      "text/plain": [
       "<Figure size 432x288 with 0 Axes>"
      ]
     },
     "metadata": {},
     "output_type": "display_data"
    },
    {
     "data": {
      "text/plain": [
       "<Figure size 432x288 with 0 Axes>"
      ]
     },
     "metadata": {},
     "output_type": "display_data"
    },
    {
     "data": {
      "text/plain": [
       "<Figure size 432x288 with 0 Axes>"
      ]
     },
     "metadata": {},
     "output_type": "display_data"
    },
    {
     "data": {
      "text/plain": [
       "<Figure size 432x288 with 0 Axes>"
      ]
     },
     "metadata": {},
     "output_type": "display_data"
    },
    {
     "data": {
      "text/plain": [
       "<Figure size 432x288 with 0 Axes>"
      ]
     },
     "metadata": {},
     "output_type": "display_data"
    },
    {
     "data": {
      "text/plain": [
       "<Figure size 432x288 with 0 Axes>"
      ]
     },
     "metadata": {},
     "output_type": "display_data"
    },
    {
     "data": {
      "text/plain": [
       "<Figure size 432x288 with 0 Axes>"
      ]
     },
     "metadata": {},
     "output_type": "display_data"
    },
    {
     "data": {
      "text/plain": [
       "<Figure size 432x288 with 0 Axes>"
      ]
     },
     "metadata": {},
     "output_type": "display_data"
    },
    {
     "data": {
      "text/plain": [
       "<Figure size 432x288 with 0 Axes>"
      ]
     },
     "metadata": {},
     "output_type": "display_data"
    },
    {
     "data": {
      "text/plain": [
       "<Figure size 432x288 with 0 Axes>"
      ]
     },
     "metadata": {},
     "output_type": "display_data"
    },
    {
     "data": {
      "text/plain": [
       "<Figure size 432x288 with 0 Axes>"
      ]
     },
     "metadata": {},
     "output_type": "display_data"
    },
    {
     "data": {
      "text/plain": [
       "<Figure size 432x288 with 0 Axes>"
      ]
     },
     "metadata": {},
     "output_type": "display_data"
    },
    {
     "data": {
      "text/plain": [
       "<Figure size 432x288 with 0 Axes>"
      ]
     },
     "metadata": {},
     "output_type": "display_data"
    },
    {
     "data": {
      "text/plain": [
       "<Figure size 432x288 with 0 Axes>"
      ]
     },
     "metadata": {},
     "output_type": "display_data"
    },
    {
     "data": {
      "text/plain": [
       "<Figure size 432x288 with 0 Axes>"
      ]
     },
     "metadata": {},
     "output_type": "display_data"
    },
    {
     "data": {
      "text/plain": [
       "<Figure size 432x288 with 0 Axes>"
      ]
     },
     "metadata": {},
     "output_type": "display_data"
    },
    {
     "data": {
      "text/plain": [
       "<Figure size 432x288 with 0 Axes>"
      ]
     },
     "metadata": {},
     "output_type": "display_data"
    },
    {
     "data": {
      "text/plain": [
       "<Figure size 432x288 with 0 Axes>"
      ]
     },
     "metadata": {},
     "output_type": "display_data"
    },
    {
     "data": {
      "text/plain": [
       "<Figure size 432x288 with 0 Axes>"
      ]
     },
     "metadata": {},
     "output_type": "display_data"
    },
    {
     "data": {
      "text/plain": [
       "<Figure size 432x288 with 0 Axes>"
      ]
     },
     "metadata": {},
     "output_type": "display_data"
    },
    {
     "data": {
      "text/plain": [
       "<Figure size 432x288 with 0 Axes>"
      ]
     },
     "metadata": {},
     "output_type": "display_data"
    },
    {
     "data": {
      "text/plain": [
       "<Figure size 432x288 with 0 Axes>"
      ]
     },
     "metadata": {},
     "output_type": "display_data"
    },
    {
     "data": {
      "text/plain": [
       "<Figure size 432x288 with 0 Axes>"
      ]
     },
     "metadata": {},
     "output_type": "display_data"
    },
    {
     "data": {
      "text/plain": [
       "<Figure size 432x288 with 0 Axes>"
      ]
     },
     "metadata": {},
     "output_type": "display_data"
    },
    {
     "data": {
      "text/plain": [
       "<Figure size 432x288 with 0 Axes>"
      ]
     },
     "metadata": {},
     "output_type": "display_data"
    },
    {
     "data": {
      "text/plain": [
       "<Figure size 432x288 with 0 Axes>"
      ]
     },
     "metadata": {},
     "output_type": "display_data"
    },
    {
     "data": {
      "text/plain": [
       "<Figure size 432x288 with 0 Axes>"
      ]
     },
     "metadata": {},
     "output_type": "display_data"
    },
    {
     "data": {
      "text/plain": [
       "<Figure size 432x288 with 0 Axes>"
      ]
     },
     "metadata": {},
     "output_type": "display_data"
    },
    {
     "data": {
      "text/plain": [
       "<Figure size 432x288 with 0 Axes>"
      ]
     },
     "metadata": {},
     "output_type": "display_data"
    },
    {
     "data": {
      "text/plain": [
       "<Figure size 432x288 with 0 Axes>"
      ]
     },
     "metadata": {},
     "output_type": "display_data"
    },
    {
     "data": {
      "text/plain": [
       "<Figure size 432x288 with 0 Axes>"
      ]
     },
     "metadata": {},
     "output_type": "display_data"
    },
    {
     "data": {
      "text/plain": [
       "<Figure size 432x288 with 0 Axes>"
      ]
     },
     "metadata": {},
     "output_type": "display_data"
    },
    {
     "data": {
      "text/plain": [
       "<Figure size 432x288 with 0 Axes>"
      ]
     },
     "metadata": {},
     "output_type": "display_data"
    },
    {
     "data": {
      "text/plain": [
       "<Figure size 432x288 with 0 Axes>"
      ]
     },
     "metadata": {},
     "output_type": "display_data"
    },
    {
     "data": {
      "text/plain": [
       "<Figure size 432x288 with 0 Axes>"
      ]
     },
     "metadata": {},
     "output_type": "display_data"
    },
    {
     "data": {
      "text/plain": [
       "<Figure size 432x288 with 0 Axes>"
      ]
     },
     "metadata": {},
     "output_type": "display_data"
    },
    {
     "data": {
      "text/plain": [
       "<Figure size 432x288 with 0 Axes>"
      ]
     },
     "metadata": {},
     "output_type": "display_data"
    },
    {
     "data": {
      "text/plain": [
       "<Figure size 432x288 with 0 Axes>"
      ]
     },
     "metadata": {},
     "output_type": "display_data"
    },
    {
     "data": {
      "text/plain": [
       "<Figure size 432x288 with 0 Axes>"
      ]
     },
     "metadata": {},
     "output_type": "display_data"
    },
    {
     "data": {
      "text/plain": [
       "<Figure size 432x288 with 0 Axes>"
      ]
     },
     "metadata": {},
     "output_type": "display_data"
    },
    {
     "data": {
      "text/plain": [
       "<Figure size 432x288 with 0 Axes>"
      ]
     },
     "metadata": {},
     "output_type": "display_data"
    },
    {
     "data": {
      "text/plain": [
       "<Figure size 432x288 with 0 Axes>"
      ]
     },
     "metadata": {},
     "output_type": "display_data"
    },
    {
     "data": {
      "text/plain": [
       "<Figure size 432x288 with 0 Axes>"
      ]
     },
     "metadata": {},
     "output_type": "display_data"
    },
    {
     "data": {
      "text/plain": [
       "<Figure size 432x288 with 0 Axes>"
      ]
     },
     "metadata": {},
     "output_type": "display_data"
    },
    {
     "data": {
      "text/plain": [
       "<Figure size 432x288 with 0 Axes>"
      ]
     },
     "metadata": {},
     "output_type": "display_data"
    },
    {
     "data": {
      "text/plain": [
       "<Figure size 432x288 with 0 Axes>"
      ]
     },
     "metadata": {},
     "output_type": "display_data"
    },
    {
     "data": {
      "text/plain": [
       "<Figure size 432x288 with 0 Axes>"
      ]
     },
     "metadata": {},
     "output_type": "display_data"
    },
    {
     "data": {
      "text/plain": [
       "<Figure size 432x288 with 0 Axes>"
      ]
     },
     "metadata": {},
     "output_type": "display_data"
    },
    {
     "data": {
      "text/plain": [
       "<Figure size 432x288 with 0 Axes>"
      ]
     },
     "metadata": {},
     "output_type": "display_data"
    },
    {
     "data": {
      "text/plain": [
       "<Figure size 432x288 with 0 Axes>"
      ]
     },
     "metadata": {},
     "output_type": "display_data"
    },
    {
     "data": {
      "text/plain": [
       "<Figure size 432x288 with 0 Axes>"
      ]
     },
     "metadata": {},
     "output_type": "display_data"
    },
    {
     "data": {
      "text/plain": [
       "<Figure size 432x288 with 0 Axes>"
      ]
     },
     "metadata": {},
     "output_type": "display_data"
    },
    {
     "data": {
      "text/plain": [
       "<Figure size 432x288 with 0 Axes>"
      ]
     },
     "metadata": {},
     "output_type": "display_data"
    },
    {
     "data": {
      "text/plain": [
       "<Figure size 432x288 with 0 Axes>"
      ]
     },
     "metadata": {},
     "output_type": "display_data"
    },
    {
     "data": {
      "text/plain": [
       "<Figure size 432x288 with 0 Axes>"
      ]
     },
     "metadata": {},
     "output_type": "display_data"
    },
    {
     "data": {
      "text/plain": [
       "<Figure size 432x288 with 0 Axes>"
      ]
     },
     "metadata": {},
     "output_type": "display_data"
    },
    {
     "data": {
      "text/plain": [
       "<Figure size 432x288 with 0 Axes>"
      ]
     },
     "metadata": {},
     "output_type": "display_data"
    },
    {
     "data": {
      "text/plain": [
       "<Figure size 432x288 with 0 Axes>"
      ]
     },
     "metadata": {},
     "output_type": "display_data"
    },
    {
     "data": {
      "text/plain": [
       "<Figure size 432x288 with 0 Axes>"
      ]
     },
     "metadata": {},
     "output_type": "display_data"
    },
    {
     "data": {
      "text/plain": [
       "<Figure size 432x288 with 0 Axes>"
      ]
     },
     "metadata": {},
     "output_type": "display_data"
    },
    {
     "data": {
      "text/plain": [
       "<Figure size 432x288 with 0 Axes>"
      ]
     },
     "metadata": {},
     "output_type": "display_data"
    },
    {
     "data": {
      "text/plain": [
       "<Figure size 432x288 with 0 Axes>"
      ]
     },
     "metadata": {},
     "output_type": "display_data"
    },
    {
     "data": {
      "text/plain": [
       "<Figure size 432x288 with 0 Axes>"
      ]
     },
     "metadata": {},
     "output_type": "display_data"
    },
    {
     "data": {
      "text/plain": [
       "<Figure size 432x288 with 0 Axes>"
      ]
     },
     "metadata": {},
     "output_type": "display_data"
    },
    {
     "data": {
      "text/plain": [
       "<Figure size 432x288 with 0 Axes>"
      ]
     },
     "metadata": {},
     "output_type": "display_data"
    },
    {
     "data": {
      "text/plain": [
       "<Figure size 432x288 with 0 Axes>"
      ]
     },
     "metadata": {},
     "output_type": "display_data"
    },
    {
     "data": {
      "text/plain": [
       "<Figure size 432x288 with 0 Axes>"
      ]
     },
     "metadata": {},
     "output_type": "display_data"
    },
    {
     "data": {
      "text/plain": [
       "<Figure size 432x288 with 0 Axes>"
      ]
     },
     "metadata": {},
     "output_type": "display_data"
    },
    {
     "data": {
      "text/plain": [
       "<Figure size 432x288 with 0 Axes>"
      ]
     },
     "metadata": {},
     "output_type": "display_data"
    },
    {
     "data": {
      "text/plain": [
       "<Figure size 432x288 with 0 Axes>"
      ]
     },
     "metadata": {},
     "output_type": "display_data"
    },
    {
     "data": {
      "text/plain": [
       "<Figure size 432x288 with 0 Axes>"
      ]
     },
     "metadata": {},
     "output_type": "display_data"
    },
    {
     "data": {
      "text/plain": [
       "<Figure size 432x288 with 0 Axes>"
      ]
     },
     "metadata": {},
     "output_type": "display_data"
    },
    {
     "data": {
      "text/plain": [
       "<Figure size 432x288 with 0 Axes>"
      ]
     },
     "metadata": {},
     "output_type": "display_data"
    },
    {
     "data": {
      "text/plain": [
       "<Figure size 432x288 with 0 Axes>"
      ]
     },
     "metadata": {},
     "output_type": "display_data"
    },
    {
     "data": {
      "text/plain": [
       "<Figure size 432x288 with 0 Axes>"
      ]
     },
     "metadata": {},
     "output_type": "display_data"
    },
    {
     "data": {
      "text/plain": [
       "<Figure size 432x288 with 0 Axes>"
      ]
     },
     "metadata": {},
     "output_type": "display_data"
    },
    {
     "data": {
      "text/plain": [
       "<Figure size 432x288 with 0 Axes>"
      ]
     },
     "metadata": {},
     "output_type": "display_data"
    },
    {
     "data": {
      "text/plain": [
       "<Figure size 432x288 with 0 Axes>"
      ]
     },
     "metadata": {},
     "output_type": "display_data"
    },
    {
     "data": {
      "text/plain": [
       "<Figure size 432x288 with 0 Axes>"
      ]
     },
     "metadata": {},
     "output_type": "display_data"
    },
    {
     "data": {
      "text/plain": [
       "<Figure size 432x288 with 0 Axes>"
      ]
     },
     "metadata": {},
     "output_type": "display_data"
    },
    {
     "data": {
      "text/plain": [
       "<Figure size 432x288 with 0 Axes>"
      ]
     },
     "metadata": {},
     "output_type": "display_data"
    },
    {
     "data": {
      "text/plain": [
       "<Figure size 432x288 with 0 Axes>"
      ]
     },
     "metadata": {},
     "output_type": "display_data"
    },
    {
     "data": {
      "text/plain": [
       "<Figure size 432x288 with 0 Axes>"
      ]
     },
     "metadata": {},
     "output_type": "display_data"
    },
    {
     "data": {
      "text/plain": [
       "<Figure size 432x288 with 0 Axes>"
      ]
     },
     "metadata": {},
     "output_type": "display_data"
    },
    {
     "data": {
      "text/plain": [
       "<Figure size 432x288 with 0 Axes>"
      ]
     },
     "metadata": {},
     "output_type": "display_data"
    },
    {
     "data": {
      "text/plain": [
       "<Figure size 432x288 with 0 Axes>"
      ]
     },
     "metadata": {},
     "output_type": "display_data"
    },
    {
     "data": {
      "text/plain": [
       "<Figure size 432x288 with 0 Axes>"
      ]
     },
     "metadata": {},
     "output_type": "display_data"
    },
    {
     "data": {
      "text/plain": [
       "<Figure size 432x288 with 0 Axes>"
      ]
     },
     "metadata": {},
     "output_type": "display_data"
    },
    {
     "data": {
      "text/plain": [
       "<Figure size 432x288 with 0 Axes>"
      ]
     },
     "metadata": {},
     "output_type": "display_data"
    },
    {
     "data": {
      "text/plain": [
       "<Figure size 432x288 with 0 Axes>"
      ]
     },
     "metadata": {},
     "output_type": "display_data"
    },
    {
     "data": {
      "text/plain": [
       "<Figure size 432x288 with 0 Axes>"
      ]
     },
     "metadata": {},
     "output_type": "display_data"
    },
    {
     "data": {
      "text/plain": [
       "<Figure size 432x288 with 0 Axes>"
      ]
     },
     "metadata": {},
     "output_type": "display_data"
    },
    {
     "data": {
      "text/plain": [
       "<Figure size 432x288 with 0 Axes>"
      ]
     },
     "metadata": {},
     "output_type": "display_data"
    },
    {
     "data": {
      "text/plain": [
       "<Figure size 432x288 with 0 Axes>"
      ]
     },
     "metadata": {},
     "output_type": "display_data"
    },
    {
     "data": {
      "text/plain": [
       "<Figure size 432x288 with 0 Axes>"
      ]
     },
     "metadata": {},
     "output_type": "display_data"
    },
    {
     "data": {
      "text/plain": [
       "<Figure size 432x288 with 0 Axes>"
      ]
     },
     "metadata": {},
     "output_type": "display_data"
    },
    {
     "data": {
      "text/plain": [
       "<Figure size 432x288 with 0 Axes>"
      ]
     },
     "metadata": {},
     "output_type": "display_data"
    },
    {
     "data": {
      "text/plain": [
       "<Figure size 432x288 with 0 Axes>"
      ]
     },
     "metadata": {},
     "output_type": "display_data"
    },
    {
     "data": {
      "text/plain": [
       "<Figure size 432x288 with 0 Axes>"
      ]
     },
     "metadata": {},
     "output_type": "display_data"
    },
    {
     "data": {
      "text/plain": [
       "<Figure size 432x288 with 0 Axes>"
      ]
     },
     "metadata": {},
     "output_type": "display_data"
    },
    {
     "data": {
      "text/plain": [
       "<Figure size 432x288 with 0 Axes>"
      ]
     },
     "metadata": {},
     "output_type": "display_data"
    },
    {
     "data": {
      "text/plain": [
       "<Figure size 432x288 with 0 Axes>"
      ]
     },
     "metadata": {},
     "output_type": "display_data"
    },
    {
     "data": {
      "text/plain": [
       "<Figure size 432x288 with 0 Axes>"
      ]
     },
     "metadata": {},
     "output_type": "display_data"
    },
    {
     "data": {
      "text/plain": [
       "<Figure size 432x288 with 0 Axes>"
      ]
     },
     "metadata": {},
     "output_type": "display_data"
    },
    {
     "data": {
      "text/plain": [
       "<Figure size 432x288 with 0 Axes>"
      ]
     },
     "metadata": {},
     "output_type": "display_data"
    },
    {
     "data": {
      "text/plain": [
       "<Figure size 432x288 with 0 Axes>"
      ]
     },
     "metadata": {},
     "output_type": "display_data"
    },
    {
     "data": {
      "text/plain": [
       "<Figure size 432x288 with 0 Axes>"
      ]
     },
     "metadata": {},
     "output_type": "display_data"
    },
    {
     "data": {
      "text/plain": [
       "<Figure size 432x288 with 0 Axes>"
      ]
     },
     "metadata": {},
     "output_type": "display_data"
    },
    {
     "data": {
      "text/plain": [
       "<Figure size 432x288 with 0 Axes>"
      ]
     },
     "metadata": {},
     "output_type": "display_data"
    },
    {
     "data": {
      "text/plain": [
       "<Figure size 432x288 with 0 Axes>"
      ]
     },
     "metadata": {},
     "output_type": "display_data"
    },
    {
     "data": {
      "text/plain": [
       "<Figure size 432x288 with 0 Axes>"
      ]
     },
     "metadata": {},
     "output_type": "display_data"
    },
    {
     "data": {
      "text/plain": [
       "<Figure size 432x288 with 0 Axes>"
      ]
     },
     "metadata": {},
     "output_type": "display_data"
    },
    {
     "data": {
      "text/plain": [
       "<Figure size 432x288 with 0 Axes>"
      ]
     },
     "metadata": {},
     "output_type": "display_data"
    },
    {
     "data": {
      "text/plain": [
       "<Figure size 432x288 with 0 Axes>"
      ]
     },
     "metadata": {},
     "output_type": "display_data"
    },
    {
     "data": {
      "text/plain": [
       "<Figure size 432x288 with 0 Axes>"
      ]
     },
     "metadata": {},
     "output_type": "display_data"
    },
    {
     "data": {
      "text/plain": [
       "<Figure size 432x288 with 0 Axes>"
      ]
     },
     "metadata": {},
     "output_type": "display_data"
    },
    {
     "data": {
      "text/plain": [
       "<Figure size 432x288 with 0 Axes>"
      ]
     },
     "metadata": {},
     "output_type": "display_data"
    },
    {
     "data": {
      "text/plain": [
       "<Figure size 432x288 with 0 Axes>"
      ]
     },
     "metadata": {},
     "output_type": "display_data"
    },
    {
     "data": {
      "text/plain": [
       "<Figure size 432x288 with 0 Axes>"
      ]
     },
     "metadata": {},
     "output_type": "display_data"
    },
    {
     "data": {
      "text/plain": [
       "<Figure size 432x288 with 0 Axes>"
      ]
     },
     "metadata": {},
     "output_type": "display_data"
    },
    {
     "data": {
      "text/plain": [
       "<Figure size 432x288 with 0 Axes>"
      ]
     },
     "metadata": {},
     "output_type": "display_data"
    },
    {
     "data": {
      "text/plain": [
       "<Figure size 432x288 with 0 Axes>"
      ]
     },
     "metadata": {},
     "output_type": "display_data"
    },
    {
     "data": {
      "text/plain": [
       "<Figure size 432x288 with 0 Axes>"
      ]
     },
     "metadata": {},
     "output_type": "display_data"
    },
    {
     "data": {
      "text/plain": [
       "<Figure size 432x288 with 0 Axes>"
      ]
     },
     "metadata": {},
     "output_type": "display_data"
    },
    {
     "data": {
      "text/plain": [
       "<Figure size 432x288 with 0 Axes>"
      ]
     },
     "metadata": {},
     "output_type": "display_data"
    },
    {
     "data": {
      "text/plain": [
       "<Figure size 432x288 with 0 Axes>"
      ]
     },
     "metadata": {},
     "output_type": "display_data"
    },
    {
     "data": {
      "text/plain": [
       "<Figure size 432x288 with 0 Axes>"
      ]
     },
     "metadata": {},
     "output_type": "display_data"
    },
    {
     "data": {
      "text/plain": [
       "<Figure size 432x288 with 0 Axes>"
      ]
     },
     "metadata": {},
     "output_type": "display_data"
    },
    {
     "data": {
      "text/plain": [
       "<Figure size 432x288 with 0 Axes>"
      ]
     },
     "metadata": {},
     "output_type": "display_data"
    },
    {
     "data": {
      "text/plain": [
       "<Figure size 432x288 with 0 Axes>"
      ]
     },
     "metadata": {},
     "output_type": "display_data"
    },
    {
     "data": {
      "text/plain": [
       "<Figure size 432x288 with 0 Axes>"
      ]
     },
     "metadata": {},
     "output_type": "display_data"
    },
    {
     "data": {
      "text/plain": [
       "<Figure size 432x288 with 0 Axes>"
      ]
     },
     "metadata": {},
     "output_type": "display_data"
    },
    {
     "data": {
      "text/plain": [
       "<Figure size 432x288 with 0 Axes>"
      ]
     },
     "metadata": {},
     "output_type": "display_data"
    },
    {
     "data": {
      "text/plain": [
       "<Figure size 432x288 with 0 Axes>"
      ]
     },
     "metadata": {},
     "output_type": "display_data"
    },
    {
     "data": {
      "text/plain": [
       "<Figure size 432x288 with 0 Axes>"
      ]
     },
     "metadata": {},
     "output_type": "display_data"
    },
    {
     "data": {
      "text/plain": [
       "<Figure size 432x288 with 0 Axes>"
      ]
     },
     "metadata": {},
     "output_type": "display_data"
    },
    {
     "data": {
      "text/plain": [
       "<Figure size 432x288 with 0 Axes>"
      ]
     },
     "metadata": {},
     "output_type": "display_data"
    },
    {
     "data": {
      "text/plain": [
       "<Figure size 432x288 with 0 Axes>"
      ]
     },
     "metadata": {},
     "output_type": "display_data"
    },
    {
     "data": {
      "text/plain": [
       "<Figure size 432x288 with 0 Axes>"
      ]
     },
     "metadata": {},
     "output_type": "display_data"
    },
    {
     "data": {
      "text/plain": [
       "<Figure size 432x288 with 0 Axes>"
      ]
     },
     "metadata": {},
     "output_type": "display_data"
    },
    {
     "data": {
      "text/plain": [
       "<Figure size 432x288 with 0 Axes>"
      ]
     },
     "metadata": {},
     "output_type": "display_data"
    },
    {
     "data": {
      "text/plain": [
       "<Figure size 432x288 with 0 Axes>"
      ]
     },
     "metadata": {},
     "output_type": "display_data"
    },
    {
     "data": {
      "text/plain": [
       "<Figure size 432x288 with 0 Axes>"
      ]
     },
     "metadata": {},
     "output_type": "display_data"
    },
    {
     "data": {
      "text/plain": [
       "<Figure size 432x288 with 0 Axes>"
      ]
     },
     "metadata": {},
     "output_type": "display_data"
    },
    {
     "data": {
      "text/plain": [
       "<Figure size 432x288 with 0 Axes>"
      ]
     },
     "metadata": {},
     "output_type": "display_data"
    },
    {
     "data": {
      "text/plain": [
       "<Figure size 432x288 with 0 Axes>"
      ]
     },
     "metadata": {},
     "output_type": "display_data"
    },
    {
     "data": {
      "text/plain": [
       "<Figure size 432x288 with 0 Axes>"
      ]
     },
     "metadata": {},
     "output_type": "display_data"
    },
    {
     "data": {
      "text/plain": [
       "<Figure size 432x288 with 0 Axes>"
      ]
     },
     "metadata": {},
     "output_type": "display_data"
    },
    {
     "data": {
      "text/plain": [
       "<Figure size 432x288 with 0 Axes>"
      ]
     },
     "metadata": {},
     "output_type": "display_data"
    },
    {
     "data": {
      "text/plain": [
       "<Figure size 432x288 with 0 Axes>"
      ]
     },
     "metadata": {},
     "output_type": "display_data"
    },
    {
     "data": {
      "text/plain": [
       "<Figure size 432x288 with 0 Axes>"
      ]
     },
     "metadata": {},
     "output_type": "display_data"
    },
    {
     "data": {
      "text/plain": [
       "<Figure size 432x288 with 0 Axes>"
      ]
     },
     "metadata": {},
     "output_type": "display_data"
    },
    {
     "data": {
      "text/plain": [
       "<Figure size 432x288 with 0 Axes>"
      ]
     },
     "metadata": {},
     "output_type": "display_data"
    },
    {
     "data": {
      "text/plain": [
       "<Figure size 432x288 with 0 Axes>"
      ]
     },
     "metadata": {},
     "output_type": "display_data"
    },
    {
     "data": {
      "text/plain": [
       "<Figure size 432x288 with 0 Axes>"
      ]
     },
     "metadata": {},
     "output_type": "display_data"
    },
    {
     "data": {
      "text/plain": [
       "<Figure size 432x288 with 0 Axes>"
      ]
     },
     "metadata": {},
     "output_type": "display_data"
    },
    {
     "data": {
      "text/plain": [
       "<Figure size 432x288 with 0 Axes>"
      ]
     },
     "metadata": {},
     "output_type": "display_data"
    },
    {
     "data": {
      "text/plain": [
       "<Figure size 432x288 with 0 Axes>"
      ]
     },
     "metadata": {},
     "output_type": "display_data"
    },
    {
     "data": {
      "text/plain": [
       "<Figure size 432x288 with 0 Axes>"
      ]
     },
     "metadata": {},
     "output_type": "display_data"
    },
    {
     "data": {
      "text/plain": [
       "<Figure size 432x288 with 0 Axes>"
      ]
     },
     "metadata": {},
     "output_type": "display_data"
    },
    {
     "data": {
      "text/plain": [
       "<Figure size 432x288 with 0 Axes>"
      ]
     },
     "metadata": {},
     "output_type": "display_data"
    },
    {
     "data": {
      "text/plain": [
       "<Figure size 432x288 with 0 Axes>"
      ]
     },
     "metadata": {},
     "output_type": "display_data"
    },
    {
     "data": {
      "text/plain": [
       "<Figure size 432x288 with 0 Axes>"
      ]
     },
     "metadata": {},
     "output_type": "display_data"
    },
    {
     "data": {
      "text/plain": [
       "<Figure size 432x288 with 0 Axes>"
      ]
     },
     "metadata": {},
     "output_type": "display_data"
    },
    {
     "data": {
      "text/plain": [
       "<Figure size 432x288 with 0 Axes>"
      ]
     },
     "metadata": {},
     "output_type": "display_data"
    },
    {
     "data": {
      "text/plain": [
       "<Figure size 432x288 with 0 Axes>"
      ]
     },
     "metadata": {},
     "output_type": "display_data"
    },
    {
     "data": {
      "text/plain": [
       "<Figure size 432x288 with 0 Axes>"
      ]
     },
     "metadata": {},
     "output_type": "display_data"
    },
    {
     "data": {
      "text/plain": [
       "<Figure size 432x288 with 0 Axes>"
      ]
     },
     "metadata": {},
     "output_type": "display_data"
    },
    {
     "data": {
      "text/plain": [
       "<Figure size 432x288 with 0 Axes>"
      ]
     },
     "metadata": {},
     "output_type": "display_data"
    },
    {
     "data": {
      "text/plain": [
       "<Figure size 432x288 with 0 Axes>"
      ]
     },
     "metadata": {},
     "output_type": "display_data"
    },
    {
     "data": {
      "text/plain": [
       "<Figure size 432x288 with 0 Axes>"
      ]
     },
     "metadata": {},
     "output_type": "display_data"
    },
    {
     "data": {
      "text/plain": [
       "<Figure size 432x288 with 0 Axes>"
      ]
     },
     "metadata": {},
     "output_type": "display_data"
    },
    {
     "data": {
      "text/plain": [
       "<Figure size 432x288 with 0 Axes>"
      ]
     },
     "metadata": {},
     "output_type": "display_data"
    },
    {
     "data": {
      "text/plain": [
       "<Figure size 432x288 with 0 Axes>"
      ]
     },
     "metadata": {},
     "output_type": "display_data"
    },
    {
     "data": {
      "text/plain": [
       "<Figure size 432x288 with 0 Axes>"
      ]
     },
     "metadata": {},
     "output_type": "display_data"
    },
    {
     "data": {
      "text/plain": [
       "<Figure size 432x288 with 0 Axes>"
      ]
     },
     "metadata": {},
     "output_type": "display_data"
    },
    {
     "data": {
      "text/plain": [
       "<Figure size 432x288 with 0 Axes>"
      ]
     },
     "metadata": {},
     "output_type": "display_data"
    },
    {
     "data": {
      "text/plain": [
       "<Figure size 432x288 with 0 Axes>"
      ]
     },
     "metadata": {},
     "output_type": "display_data"
    },
    {
     "data": {
      "text/plain": [
       "<Figure size 432x288 with 0 Axes>"
      ]
     },
     "metadata": {},
     "output_type": "display_data"
    },
    {
     "data": {
      "text/plain": [
       "<Figure size 432x288 with 0 Axes>"
      ]
     },
     "metadata": {},
     "output_type": "display_data"
    },
    {
     "data": {
      "text/plain": [
       "<Figure size 432x288 with 0 Axes>"
      ]
     },
     "metadata": {},
     "output_type": "display_data"
    },
    {
     "data": {
      "text/plain": [
       "<Figure size 432x288 with 0 Axes>"
      ]
     },
     "metadata": {},
     "output_type": "display_data"
    },
    {
     "data": {
      "text/plain": [
       "<Figure size 432x288 with 0 Axes>"
      ]
     },
     "metadata": {},
     "output_type": "display_data"
    },
    {
     "data": {
      "text/plain": [
       "<Figure size 432x288 with 0 Axes>"
      ]
     },
     "metadata": {},
     "output_type": "display_data"
    },
    {
     "data": {
      "text/plain": [
       "<Figure size 432x288 with 0 Axes>"
      ]
     },
     "metadata": {},
     "output_type": "display_data"
    },
    {
     "data": {
      "text/plain": [
       "<Figure size 432x288 with 0 Axes>"
      ]
     },
     "metadata": {},
     "output_type": "display_data"
    },
    {
     "data": {
      "text/plain": [
       "<Figure size 432x288 with 0 Axes>"
      ]
     },
     "metadata": {},
     "output_type": "display_data"
    },
    {
     "data": {
      "text/plain": [
       "<Figure size 432x288 with 0 Axes>"
      ]
     },
     "metadata": {},
     "output_type": "display_data"
    },
    {
     "data": {
      "text/plain": [
       "<Figure size 432x288 with 0 Axes>"
      ]
     },
     "metadata": {},
     "output_type": "display_data"
    },
    {
     "data": {
      "text/plain": [
       "<Figure size 432x288 with 0 Axes>"
      ]
     },
     "metadata": {},
     "output_type": "display_data"
    },
    {
     "data": {
      "text/plain": [
       "<Figure size 432x288 with 0 Axes>"
      ]
     },
     "metadata": {},
     "output_type": "display_data"
    },
    {
     "data": {
      "text/plain": [
       "<Figure size 432x288 with 0 Axes>"
      ]
     },
     "metadata": {},
     "output_type": "display_data"
    },
    {
     "data": {
      "text/plain": [
       "<Figure size 432x288 with 0 Axes>"
      ]
     },
     "metadata": {},
     "output_type": "display_data"
    }
   ],
   "source": [
    "# plot pada berbagai l\n",
    "\n",
    "for i in range (0,361):\n",
    "    plt.figure()\n",
    "    file = 'data_hi/clean/hi_l-'+str(i)+'_b-0.txt'\n",
    "    data = pd.read_fwf(file,usecols=[0,1,2,3], names=['v_lsr', 'T_B', 'freq','wl'])\n",
    "    '''plt.plot(data['v_lsr'],data['T_B'])\n",
    "    title_ = 'HI profile on l = '+str(i)\n",
    "    plt.title(title_)\n",
    "    plt.ylabel(\"T (K)\")\n",
    "    plt.xlabel(\"Radial Velocity (km/s)\")\n",
    "    plotname = 'data_hi/image/hi_l-'+str(i)+'_b-0.jpg'\n",
    "    plt.savefig(plotname)\n",
    "    plt.figure()'''\n",
    "    \n",
    "    "
   ]
  },
  {
   "cell_type": "code",
   "execution_count": 4,
   "metadata": {},
   "outputs": [],
   "source": [
    "Vc = 299790\n",
    "def Velocity(vlsr,f):\n",
    "    V = ((1420.406-f)*Vc) / (1420.406 - vlsr)\n",
    "    return V"
   ]
  },
  {
   "cell_type": "code",
   "execution_count": 15,
   "metadata": {},
   "outputs": [
    {
     "name": "stdout",
     "output_type": "stream",
     "text": [
      "0.13\n",
      "0.17\n",
      "0.12\n",
      "0.12\n",
      "0.12\n",
      "0.13\n",
      "0.11\n",
      "0.1\n",
      "0.14\n",
      "0.14\n",
      "0.12\n",
      "0.1\n",
      "0.12\n",
      "0.11\n",
      "0.12\n",
      "0.18\n",
      "0.13\n",
      "0.13\n",
      "0.11\n",
      "0.15\n",
      "0.15\n",
      "0.15\n",
      "0.09\n",
      "0.14\n",
      "0.11\n",
      "0.24\n",
      "0.15\n",
      "0.15\n",
      "0.11\n",
      "0.14\n",
      "0.12\n",
      "0.13\n",
      "0.15\n",
      "0.11\n",
      "0.15\n",
      "0.16\n",
      "0.14\n",
      "0.16\n",
      "0.09\n",
      "0.11\n",
      "0.16\n",
      "0.13\n",
      "0.15\n",
      "0.14\n",
      "0.15\n",
      "0.11\n",
      "0.13\n",
      "0.08\n",
      "0.15\n",
      "0.1\n",
      "0.14\n",
      "0.13\n",
      "0.14\n",
      "0.09\n",
      "0.11\n",
      "0.11\n",
      "0.15\n",
      "0.16\n",
      "0.13\n",
      "0.14\n",
      "0.13\n",
      "0.13\n",
      "0.13\n",
      "0.09\n",
      "0.1\n",
      "0.14\n",
      "0.1\n",
      "0.12\n",
      "0.13\n",
      "0.11\n",
      "0.16\n",
      "0.13\n",
      "0.16\n",
      "0.1\n",
      "0.09\n",
      "0.11\n",
      "0.16\n",
      "0.1\n",
      "0.12\n",
      "0.15\n",
      "0.12\n",
      "0.1\n",
      "0.1\n",
      "0.14\n",
      "0.14\n",
      "0.09\n",
      "0.13\n",
      "0.16\n",
      "0.1\n",
      "0.11\n",
      "0.16\n",
      "0.12\n",
      "0.09\n",
      "0.1\n",
      "0.1\n",
      "0.11\n",
      "0.16\n",
      "0.16\n",
      "0.11\n",
      "0.13\n",
      "0.12\n",
      "0.1\n",
      "0.07\n",
      "0.15\n",
      "0.12\n",
      "0.14\n",
      "0.15\n",
      "0.14\n",
      "0.1\n",
      "0.12\n",
      "0.16\n",
      "0.12\n",
      "0.15\n",
      "0.12\n",
      "0.13\n",
      "0.14\n",
      "0.11\n",
      "0.12\n",
      "0.12\n",
      "0.17\n",
      "0.07\n",
      "0.11\n",
      "0.09\n",
      "0.1\n",
      "0.13\n",
      "0.11\n",
      "0.14\n",
      "0.1\n",
      "0.13\n",
      "0.1\n",
      "0.16\n",
      "0.11\n",
      "0.14\n",
      "0.17\n",
      "0.14\n",
      "0.16\n",
      "0.11\n",
      "0.13\n",
      "0.12\n",
      "0.12\n",
      "0.09\n",
      "0.15\n",
      "0.12\n",
      "0.13\n",
      "0.13\n",
      "0.09\n",
      "0.16\n",
      "0.08\n",
      "0.16\n",
      "0.1\n",
      "0.17\n",
      "0.19\n",
      "0.18\n",
      "0.1\n",
      "0.13\n",
      "0.12\n",
      "0.13\n",
      "0.14\n",
      "0.17\n",
      "0.14\n",
      "0.14\n",
      "0.17\n",
      "0.14\n",
      "0.15\n",
      "0.05\n",
      "0.11\n",
      "0.12\n",
      "0.12\n",
      "0.11\n",
      "0.15\n",
      "0.13\n",
      "0.11\n",
      "0.1\n",
      "0.12\n",
      "0.17\n",
      "0.12\n",
      "0.13\n",
      "0.14\n",
      "0.12\n",
      "0.14\n",
      "0.18\n",
      "0.1\n",
      "0.15\n",
      "0.14\n",
      "0.14\n",
      "0.11\n",
      "0.22\n",
      "0.09\n",
      "0.15\n",
      "0.12\n",
      "0.12\n",
      "0.17\n",
      "0.14\n",
      "0.12\n",
      "0.16\n",
      "0.09\n",
      "0.16\n",
      "0.18\n",
      "0.16\n",
      "0.13\n",
      "0.16\n",
      "0.15\n",
      "0.14\n",
      "0.15\n",
      "0.18\n",
      "0.14\n",
      "0.16\n",
      "0.18\n",
      "0.17\n",
      "0.12\n",
      "0.12\n",
      "0.16\n",
      "0.17\n",
      "0.12\n",
      "0.16\n",
      "0.14\n",
      "0.15\n",
      "0.12\n",
      "0.1\n",
      "0.11\n",
      "0.08\n",
      "0.11\n",
      "0.1\n",
      "0.12\n",
      "0.1\n",
      "0.1\n",
      "0.12\n",
      "0.12\n",
      "0.1\n",
      "0.15\n",
      "0.12\n",
      "0.1\n",
      "0.11\n",
      "0.17\n",
      "0.13\n",
      "0.16\n",
      "0.16\n",
      "0.18\n",
      "0.09\n",
      "0.12\n",
      "0.17\n",
      "0.15\n",
      "0.18\n",
      "0.13\n",
      "0.19\n",
      "0.17\n",
      "0.21\n",
      "0.15\n",
      "0.18\n",
      "0.19\n",
      "0.21\n",
      "0.14\n",
      "0.19\n",
      "0.15\n",
      "0.18\n",
      "0.19\n",
      "0.14\n",
      "0.17\n",
      "0.12\n",
      "0.08\n",
      "0.17\n",
      "0.12\n",
      "0.12\n",
      "0.17\n",
      "0.11\n",
      "0.12\n",
      "0.12\n",
      "0.14\n",
      "0.07\n",
      "0.14\n",
      "0.14\n",
      "0.4\n",
      "0.19\n",
      "0.13\n",
      "0.14\n",
      "0.18\n",
      "0.1\n",
      "0.12\n",
      "0.18\n",
      "0.13\n",
      "0.15\n",
      "0.26\n",
      "0.15\n",
      "0.19\n",
      "0.16\n",
      "0.1\n",
      "0.12\n",
      "0.09\n",
      "0.1\n",
      "0.17\n",
      "0.16\n",
      "0.18\n",
      "0.14\n",
      "0.18\n",
      "0.12\n",
      "0.13\n",
      "0.16\n",
      "0.11\n",
      "0.07\n",
      "0.13\n",
      "0.15\n",
      "0.16\n",
      "0.12\n",
      "0.09\n",
      "0.1\n",
      "0.08\n",
      "0.11\n",
      "0.08\n",
      "0.12\n",
      "0.08\n",
      "0.1\n",
      "0.09\n",
      "0.16\n",
      "0.13\n",
      "0.11\n",
      "0.1\n",
      "0.11\n",
      "0.16\n",
      "0.14\n",
      "0.14\n",
      "0.13\n",
      "0.14\n",
      "0.16\n",
      "0.08\n",
      "0.15\n",
      "0.15\n",
      "0.13\n",
      "0.13\n",
      "0.09\n",
      "0.12\n",
      "0.12\n",
      "0.14\n",
      "0.13\n",
      "0.13\n",
      "0.08\n",
      "0.13\n",
      "0.11\n",
      "0.17\n",
      "0.17\n",
      "0.12\n",
      "0.17\n",
      "0.09\n",
      "0.13\n",
      "0.19\n",
      "0.18\n",
      "0.17\n",
      "0.18\n",
      "7.04\n",
      "0.12\n",
      "0.14\n",
      "0.1\n",
      "0.17\n",
      "0.19\n",
      "0.14\n",
      "0.1\n",
      "0.18\n",
      "0.14\n",
      "0.19\n",
      "9.29\n",
      "0.15\n",
      "0.15\n",
      "0.11\n",
      "9.28\n",
      "0.15\n",
      "0.13\n",
      "8.71\n",
      "0.1\n",
      "0.16\n",
      "0.17\n",
      "5.74\n",
      "0.13\n",
      "0.12\n",
      "0.13\n",
      "0.16\n",
      "0.14\n",
      "0.15\n",
      "0.13\n",
      "0.18\n",
      "0.17\n",
      "0.11\n",
      "0.13\n",
      "0.15\n",
      "0.09\n",
      "0.08\n",
      "0.08\n",
      "0.16\n",
      "0.17\n",
      "0.17\n",
      "0.15\n",
      "0.16\n",
      "0.13\n",
      "0.15\n",
      "0.13\n",
      "0.11\n",
      "0.13\n",
      "0.14\n",
      "0.13\n",
      "0.14\n",
      "0.21\n",
      "9.44\n",
      "0.12\n",
      "0.11\n",
      "9.54\n",
      "0.12\n",
      "0.07\n",
      "0.09\n",
      "0.12\n",
      "0.18\n",
      "9.91\n",
      "0.1\n",
      "0.1\n",
      "0.74\n",
      "0.19\n",
      "9.45\n",
      "0.14\n",
      "0.21\n",
      "0.14\n",
      "2.33\n",
      "0.24\n",
      "0.15\n",
      "0.18\n",
      "0.12\n",
      "0.14\n",
      "0.12\n",
      "0.11\n",
      "0.15\n",
      "0.23\n",
      "0.18\n",
      "0.14\n",
      "0.14\n",
      "0.22\n",
      "0.16\n",
      "0.15\n",
      "0.13\n",
      "0.4\n",
      "0.19\n",
      "1.01\n",
      "0.14\n",
      "0.15\n",
      "0.15\n",
      "0.2\n",
      "0.77\n",
      "0.09\n",
      "0.19\n",
      "0.14\n",
      "0.1\n",
      "0.15\n",
      "0.16\n",
      "0.13\n",
      "0.11\n",
      "0.16\n",
      "0.15\n",
      "0.19\n",
      "0.27\n",
      "0.18\n",
      "0.16\n",
      "0.21\n",
      "0.21\n",
      "0.13\n",
      "0.16\n",
      "0.24\n",
      "0.16\n",
      "0.12\n",
      "0.17\n",
      "0.15\n",
      "0.19\n",
      "0.2\n",
      "0.09\n",
      "0.1\n",
      "0.11\n",
      "0.11\n",
      "0.14\n",
      "0.17\n",
      "0.11\n",
      "0.13\n",
      "0.1\n",
      "0.17\n",
      "0.12\n",
      "0.2\n",
      "0.18\n",
      "0.14\n",
      "0.15\n",
      "0.18\n",
      "0.21\n",
      "0.11\n",
      "0.13\n",
      "0.13\n",
      "0.18\n",
      "0.14\n",
      "0.16\n",
      "0.15\n",
      "0.14\n",
      "0.18\n",
      "0.27\n",
      "0.1\n",
      "0.17\n",
      "0.13\n",
      "0.22\n",
      "0.14\n",
      "0.13\n",
      "0.15\n",
      "0.18\n",
      "0.14\n",
      "0.17\n",
      "0.28\n",
      "0.2\n",
      "0.15\n",
      "0.19\n",
      "0.08\n",
      "0.12\n",
      "0.13\n",
      "0.14\n",
      "0.14\n",
      "0.11\n",
      "0.12\n",
      "0.16\n",
      "0.12\n",
      "0.2\n",
      "0.12\n",
      "0.15\n",
      "0.1\n",
      "0.22\n",
      "0.14\n",
      "0.12\n",
      "0.15\n",
      "0.15\n",
      "0.11\n",
      "0.22\n",
      "0.18\n",
      "0.15\n",
      "0.23\n",
      "0.14\n",
      "0.16\n",
      "0.2\n",
      "0.21\n",
      "0.23\n",
      "0.21\n",
      "0.17\n",
      "0.16\n",
      "0.24\n",
      "0.23\n",
      "0.19\n",
      "0.17\n",
      "0.14\n",
      "0.11\n",
      "0.12\n",
      "0.13\n",
      "0.07\n",
      "0.11\n",
      "0.13\n",
      "0.16\n",
      "0.15\n",
      "0.13\n",
      "0.17\n",
      "0.13\n",
      "0.24\n",
      "0.12\n",
      "0.2\n",
      "0.14\n",
      "0.2\n",
      "0.21\n",
      "0.25\n",
      "0.1\n",
      "0.15\n",
      "0.13\n",
      "0.13\n",
      "0.1\n",
      "0.15\n",
      "0.13\n",
      "0.14\n",
      "0.17\n",
      "0.36\n",
      "0.09\n",
      "0.12\n",
      "0.08\n",
      "0.12\n",
      "0.15\n",
      "0.2\n",
      "0.13\n",
      "0.16\n",
      "0.2\n",
      "0.11\n",
      "0.12\n",
      "0.1\n",
      "0.11\n",
      "0.12\n",
      "0.12\n",
      "0.1\n",
      "0.14\n",
      "0.11\n",
      "0.15\n",
      "0.11\n",
      "0.15\n",
      "0.14\n",
      "0.21\n",
      "0.16\n",
      "0.12\n",
      "0.1\n",
      "0.11\n",
      "0.13\n",
      "0.09\n",
      "0.09\n",
      "0.18\n",
      "0.13\n",
      "0.14\n",
      "0.12\n",
      "0.13\n",
      "0.13\n",
      "0.11\n",
      "0.12\n",
      "0.15\n",
      "7.28\n",
      "0.11\n",
      "0.16\n",
      "0.17\n",
      "8.4\n",
      "0.2\n",
      "0.42\n",
      "0.3\n",
      "7.78\n"
     ]
    }
   ],
   "source": [
    "# untuk 0<l<180 maka kita ekstrak puncak di kiri \n",
    "from scipy.signal import argrelmax, argrelmin\n",
    "from peakdetect import peakdetect\n",
    "puncak_vr = 0\n",
    "maxima = []\n",
    "vr_maxima = []\n",
    "v_rmax = []\n",
    "frek = []\n",
    "\n",
    "for i in range(0,180):\n",
    "    file = 'data_hi/clean/hi_l-'+str(i)+'_b-0.txt'\n",
    "    data = pd.read_fwf(file,usecols=[0,1,2,3], names=['v_lsr', 'T_B','freq','wl'])\n",
    "    peaks = peakdetect(data['T_B'].astype(float),lookahead=30)\n",
    "    #print(len(peaks[0]))\n",
    "    #length = len(peaks[0])\n",
    "    u = 0\n",
    "    while (peaks[0][u][1] <10):\n",
    "        #peaks = peak[0][i][1] \n",
    "        #print(peaks[0][u][1])\n",
    "        u = u+1\n",
    "    maxima.append(peaks[0][u][1])\n",
    "    vr = data.loc[data['T_B'] == peaks[0][u][1], 'v_lsr'].iloc[0]\n",
    "    vr_maxima.append(vr)\n",
    "    fr = data.loc[data['T_B'] == peaks[0][u][1], 'freq'].iloc[0]\n",
    "    frek.append(fr)\n",
    "    v_r = Velocity(vr,fr)\n",
    "    v_rmax.append(v_r)\n",
    "    \n",
    "\n",
    "for i in range(180,360):\n",
    "    file = 'data_hi/clean/hi_l-'+str(i)+'_b-0.txt'\n",
    "    data = pd.read_fwf(file,usecols=[0,1,2,3], names=['v_lsr', 'T_B','freq','wl'])\n",
    "    peaks = peakdetect(data['T_B'].astype(float),lookahead=30)\n",
    "    #print(peaks)\n",
    "    #length = len(peaks[0])\n",
    "    u = len(peaks[0])-1\n",
    "    while (peaks[0][u][1] <10):\n",
    "        print(peaks[0][u][1])\n",
    "        u = u-1\n",
    "    maxima.append(peaks[0][u][1])\n",
    "    vr = data.loc[data['T_B'] == peaks[0][u][1], 'v_lsr'].iloc[0]\n",
    "    vr_maxima.append(vr)\n",
    "    fr = data.loc[data['T_B'] == peaks[0][u][1], 'freq'].iloc[0]\n",
    "    frek.append(fr)\n",
    "    v_r = Velocity(vr,fr)\n",
    "    v_rmax.append(v_r)\n",
    "\n",
    "    "
   ]
  },
  {
   "cell_type": "code",
   "execution_count": 16,
   "metadata": {},
   "outputs": [
    {
     "data": {
      "text/html": [
       "<div>\n",
       "<style scoped>\n",
       "    .dataframe tbody tr th:only-of-type {\n",
       "        vertical-align: middle;\n",
       "    }\n",
       "\n",
       "    .dataframe tbody tr th {\n",
       "        vertical-align: top;\n",
       "    }\n",
       "\n",
       "    .dataframe thead th {\n",
       "        text-align: right;\n",
       "    }\n",
       "</style>\n",
       "<table border=\"1\" class=\"dataframe\">\n",
       "  <thead>\n",
       "    <tr style=\"text-align: right;\">\n",
       "      <th></th>\n",
       "      <th>v_lsr</th>\n",
       "      <th>T_B</th>\n",
       "      <th>freq</th>\n",
       "      <th>wl</th>\n",
       "    </tr>\n",
       "  </thead>\n",
       "  <tbody>\n",
       "    <tr>\n",
       "      <th>0</th>\n",
       "      <td>-399.83</td>\n",
       "      <td>-0.07</td>\n",
       "      <td>1422.300</td>\n",
       "      <td>21.07800</td>\n",
       "    </tr>\n",
       "    <tr>\n",
       "      <th>1</th>\n",
       "      <td>-398.80</td>\n",
       "      <td>0.11</td>\n",
       "      <td>1422.295</td>\n",
       "      <td>21.07808</td>\n",
       "    </tr>\n",
       "    <tr>\n",
       "      <th>2</th>\n",
       "      <td>-397.77</td>\n",
       "      <td>0.01</td>\n",
       "      <td>1422.290</td>\n",
       "      <td>21.07815</td>\n",
       "    </tr>\n",
       "    <tr>\n",
       "      <th>3</th>\n",
       "      <td>-396.74</td>\n",
       "      <td>-0.04</td>\n",
       "      <td>1422.285</td>\n",
       "      <td>21.07822</td>\n",
       "    </tr>\n",
       "    <tr>\n",
       "      <th>4</th>\n",
       "      <td>-395.71</td>\n",
       "      <td>0.07</td>\n",
       "      <td>1422.281</td>\n",
       "      <td>21.07829</td>\n",
       "    </tr>\n",
       "    <tr>\n",
       "      <th>5</th>\n",
       "      <td>-394.68</td>\n",
       "      <td>0.01</td>\n",
       "      <td>1422.276</td>\n",
       "      <td>21.07836</td>\n",
       "    </tr>\n",
       "    <tr>\n",
       "      <th>6</th>\n",
       "      <td>-393.65</td>\n",
       "      <td>-0.05</td>\n",
       "      <td>1422.271</td>\n",
       "      <td>21.07844</td>\n",
       "    </tr>\n",
       "    <tr>\n",
       "      <th>7</th>\n",
       "      <td>-392.62</td>\n",
       "      <td>0.04</td>\n",
       "      <td>1422.266</td>\n",
       "      <td>21.07851</td>\n",
       "    </tr>\n",
       "    <tr>\n",
       "      <th>8</th>\n",
       "      <td>-391.59</td>\n",
       "      <td>-0.05</td>\n",
       "      <td>1422.261</td>\n",
       "      <td>21.07858</td>\n",
       "    </tr>\n",
       "    <tr>\n",
       "      <th>9</th>\n",
       "      <td>-390.56</td>\n",
       "      <td>0.04</td>\n",
       "      <td>1422.256</td>\n",
       "      <td>21.07866</td>\n",
       "    </tr>\n",
       "    <tr>\n",
       "      <th>10</th>\n",
       "      <td>-389.53</td>\n",
       "      <td>0.15</td>\n",
       "      <td>1422.251</td>\n",
       "      <td>21.07873</td>\n",
       "    </tr>\n",
       "    <tr>\n",
       "      <th>11</th>\n",
       "      <td>-388.49</td>\n",
       "      <td>-0.08</td>\n",
       "      <td>1422.246</td>\n",
       "      <td>21.07880</td>\n",
       "    </tr>\n",
       "    <tr>\n",
       "      <th>12</th>\n",
       "      <td>-387.46</td>\n",
       "      <td>-0.16</td>\n",
       "      <td>1422.242</td>\n",
       "      <td>21.07887</td>\n",
       "    </tr>\n",
       "    <tr>\n",
       "      <th>13</th>\n",
       "      <td>-386.43</td>\n",
       "      <td>-0.00</td>\n",
       "      <td>1422.237</td>\n",
       "      <td>21.07894</td>\n",
       "    </tr>\n",
       "    <tr>\n",
       "      <th>14</th>\n",
       "      <td>-385.40</td>\n",
       "      <td>-0.10</td>\n",
       "      <td>1422.232</td>\n",
       "      <td>21.07902</td>\n",
       "    </tr>\n",
       "    <tr>\n",
       "      <th>15</th>\n",
       "      <td>-384.37</td>\n",
       "      <td>-0.02</td>\n",
       "      <td>1422.227</td>\n",
       "      <td>21.07909</td>\n",
       "    </tr>\n",
       "    <tr>\n",
       "      <th>16</th>\n",
       "      <td>-383.34</td>\n",
       "      <td>-0.04</td>\n",
       "      <td>1422.222</td>\n",
       "      <td>21.07916</td>\n",
       "    </tr>\n",
       "    <tr>\n",
       "      <th>17</th>\n",
       "      <td>-382.31</td>\n",
       "      <td>-0.05</td>\n",
       "      <td>1422.217</td>\n",
       "      <td>21.07923</td>\n",
       "    </tr>\n",
       "    <tr>\n",
       "      <th>18</th>\n",
       "      <td>-381.28</td>\n",
       "      <td>0.02</td>\n",
       "      <td>1422.212</td>\n",
       "      <td>21.07931</td>\n",
       "    </tr>\n",
       "    <tr>\n",
       "      <th>19</th>\n",
       "      <td>-380.25</td>\n",
       "      <td>-0.11</td>\n",
       "      <td>1422.207</td>\n",
       "      <td>21.07938</td>\n",
       "    </tr>\n",
       "    <tr>\n",
       "      <th>20</th>\n",
       "      <td>-379.22</td>\n",
       "      <td>0.05</td>\n",
       "      <td>1422.203</td>\n",
       "      <td>21.07945</td>\n",
       "    </tr>\n",
       "    <tr>\n",
       "      <th>21</th>\n",
       "      <td>-378.19</td>\n",
       "      <td>-0.04</td>\n",
       "      <td>1422.198</td>\n",
       "      <td>21.07952</td>\n",
       "    </tr>\n",
       "    <tr>\n",
       "      <th>22</th>\n",
       "      <td>-377.16</td>\n",
       "      <td>0.03</td>\n",
       "      <td>1422.193</td>\n",
       "      <td>21.07960</td>\n",
       "    </tr>\n",
       "    <tr>\n",
       "      <th>23</th>\n",
       "      <td>-376.13</td>\n",
       "      <td>0.17</td>\n",
       "      <td>1422.188</td>\n",
       "      <td>21.07967</td>\n",
       "    </tr>\n",
       "    <tr>\n",
       "      <th>24</th>\n",
       "      <td>-375.10</td>\n",
       "      <td>-0.19</td>\n",
       "      <td>1422.183</td>\n",
       "      <td>21.07974</td>\n",
       "    </tr>\n",
       "    <tr>\n",
       "      <th>25</th>\n",
       "      <td>-374.07</td>\n",
       "      <td>-0.13</td>\n",
       "      <td>1422.178</td>\n",
       "      <td>21.07981</td>\n",
       "    </tr>\n",
       "    <tr>\n",
       "      <th>26</th>\n",
       "      <td>-373.04</td>\n",
       "      <td>0.21</td>\n",
       "      <td>1422.173</td>\n",
       "      <td>21.07988</td>\n",
       "    </tr>\n",
       "    <tr>\n",
       "      <th>27</th>\n",
       "      <td>-372.01</td>\n",
       "      <td>0.07</td>\n",
       "      <td>1422.168</td>\n",
       "      <td>21.07996</td>\n",
       "    </tr>\n",
       "    <tr>\n",
       "      <th>28</th>\n",
       "      <td>-370.98</td>\n",
       "      <td>-0.02</td>\n",
       "      <td>1422.163</td>\n",
       "      <td>21.08003</td>\n",
       "    </tr>\n",
       "    <tr>\n",
       "      <th>29</th>\n",
       "      <td>-369.95</td>\n",
       "      <td>-0.07</td>\n",
       "      <td>1422.159</td>\n",
       "      <td>21.08010</td>\n",
       "    </tr>\n",
       "    <tr>\n",
       "      <th>...</th>\n",
       "      <td>...</td>\n",
       "      <td>...</td>\n",
       "      <td>...</td>\n",
       "      <td>...</td>\n",
       "    </tr>\n",
       "    <tr>\n",
       "      <th>748</th>\n",
       "      <td>370.98</td>\n",
       "      <td>0.01</td>\n",
       "      <td>1418.648</td>\n",
       "      <td>21.13227</td>\n",
       "    </tr>\n",
       "    <tr>\n",
       "      <th>749</th>\n",
       "      <td>372.01</td>\n",
       "      <td>0.06</td>\n",
       "      <td>1418.643</td>\n",
       "      <td>21.13234</td>\n",
       "    </tr>\n",
       "    <tr>\n",
       "      <th>750</th>\n",
       "      <td>373.04</td>\n",
       "      <td>0.07</td>\n",
       "      <td>1418.638</td>\n",
       "      <td>21.13241</td>\n",
       "    </tr>\n",
       "    <tr>\n",
       "      <th>751</th>\n",
       "      <td>374.07</td>\n",
       "      <td>-0.01</td>\n",
       "      <td>1418.633</td>\n",
       "      <td>21.13248</td>\n",
       "    </tr>\n",
       "    <tr>\n",
       "      <th>752</th>\n",
       "      <td>375.10</td>\n",
       "      <td>-0.18</td>\n",
       "      <td>1418.629</td>\n",
       "      <td>21.13256</td>\n",
       "    </tr>\n",
       "    <tr>\n",
       "      <th>753</th>\n",
       "      <td>376.13</td>\n",
       "      <td>0.03</td>\n",
       "      <td>1418.624</td>\n",
       "      <td>21.13263</td>\n",
       "    </tr>\n",
       "    <tr>\n",
       "      <th>754</th>\n",
       "      <td>377.16</td>\n",
       "      <td>0.04</td>\n",
       "      <td>1418.619</td>\n",
       "      <td>21.13270</td>\n",
       "    </tr>\n",
       "    <tr>\n",
       "      <th>755</th>\n",
       "      <td>378.19</td>\n",
       "      <td>-0.13</td>\n",
       "      <td>1418.614</td>\n",
       "      <td>21.13277</td>\n",
       "    </tr>\n",
       "    <tr>\n",
       "      <th>756</th>\n",
       "      <td>379.22</td>\n",
       "      <td>-0.11</td>\n",
       "      <td>1418.609</td>\n",
       "      <td>21.13285</td>\n",
       "    </tr>\n",
       "    <tr>\n",
       "      <th>757</th>\n",
       "      <td>380.25</td>\n",
       "      <td>0.18</td>\n",
       "      <td>1418.604</td>\n",
       "      <td>21.13292</td>\n",
       "    </tr>\n",
       "    <tr>\n",
       "      <th>758</th>\n",
       "      <td>381.28</td>\n",
       "      <td>-0.09</td>\n",
       "      <td>1418.599</td>\n",
       "      <td>21.13299</td>\n",
       "    </tr>\n",
       "    <tr>\n",
       "      <th>759</th>\n",
       "      <td>382.31</td>\n",
       "      <td>0.01</td>\n",
       "      <td>1418.594</td>\n",
       "      <td>21.13306</td>\n",
       "    </tr>\n",
       "    <tr>\n",
       "      <th>760</th>\n",
       "      <td>383.34</td>\n",
       "      <td>-0.07</td>\n",
       "      <td>1418.589</td>\n",
       "      <td>21.13314</td>\n",
       "    </tr>\n",
       "    <tr>\n",
       "      <th>761</th>\n",
       "      <td>384.37</td>\n",
       "      <td>-0.11</td>\n",
       "      <td>1418.585</td>\n",
       "      <td>21.13321</td>\n",
       "    </tr>\n",
       "    <tr>\n",
       "      <th>762</th>\n",
       "      <td>385.40</td>\n",
       "      <td>0.01</td>\n",
       "      <td>1418.580</td>\n",
       "      <td>21.13328</td>\n",
       "    </tr>\n",
       "    <tr>\n",
       "      <th>763</th>\n",
       "      <td>386.43</td>\n",
       "      <td>-0.27</td>\n",
       "      <td>1418.575</td>\n",
       "      <td>21.13336</td>\n",
       "    </tr>\n",
       "    <tr>\n",
       "      <th>764</th>\n",
       "      <td>387.46</td>\n",
       "      <td>-0.07</td>\n",
       "      <td>1418.570</td>\n",
       "      <td>21.13343</td>\n",
       "    </tr>\n",
       "    <tr>\n",
       "      <th>765</th>\n",
       "      <td>388.49</td>\n",
       "      <td>-0.22</td>\n",
       "      <td>1418.565</td>\n",
       "      <td>21.13350</td>\n",
       "    </tr>\n",
       "    <tr>\n",
       "      <th>766</th>\n",
       "      <td>389.53</td>\n",
       "      <td>-0.12</td>\n",
       "      <td>1418.560</td>\n",
       "      <td>21.13357</td>\n",
       "    </tr>\n",
       "    <tr>\n",
       "      <th>767</th>\n",
       "      <td>390.56</td>\n",
       "      <td>-0.10</td>\n",
       "      <td>1418.555</td>\n",
       "      <td>21.13365</td>\n",
       "    </tr>\n",
       "    <tr>\n",
       "      <th>768</th>\n",
       "      <td>391.59</td>\n",
       "      <td>0.02</td>\n",
       "      <td>1418.550</td>\n",
       "      <td>21.13372</td>\n",
       "    </tr>\n",
       "    <tr>\n",
       "      <th>769</th>\n",
       "      <td>392.62</td>\n",
       "      <td>-0.03</td>\n",
       "      <td>1418.546</td>\n",
       "      <td>21.13379</td>\n",
       "    </tr>\n",
       "    <tr>\n",
       "      <th>770</th>\n",
       "      <td>393.65</td>\n",
       "      <td>0.17</td>\n",
       "      <td>1418.541</td>\n",
       "      <td>21.13387</td>\n",
       "    </tr>\n",
       "    <tr>\n",
       "      <th>771</th>\n",
       "      <td>394.68</td>\n",
       "      <td>-0.30</td>\n",
       "      <td>1418.536</td>\n",
       "      <td>21.13394</td>\n",
       "    </tr>\n",
       "    <tr>\n",
       "      <th>772</th>\n",
       "      <td>395.71</td>\n",
       "      <td>0.06</td>\n",
       "      <td>1418.531</td>\n",
       "      <td>21.13401</td>\n",
       "    </tr>\n",
       "    <tr>\n",
       "      <th>773</th>\n",
       "      <td>396.74</td>\n",
       "      <td>-0.07</td>\n",
       "      <td>1418.526</td>\n",
       "      <td>21.13408</td>\n",
       "    </tr>\n",
       "    <tr>\n",
       "      <th>774</th>\n",
       "      <td>397.77</td>\n",
       "      <td>-0.19</td>\n",
       "      <td>1418.521</td>\n",
       "      <td>21.13416</td>\n",
       "    </tr>\n",
       "    <tr>\n",
       "      <th>775</th>\n",
       "      <td>398.80</td>\n",
       "      <td>-0.08</td>\n",
       "      <td>1418.516</td>\n",
       "      <td>21.13423</td>\n",
       "    </tr>\n",
       "    <tr>\n",
       "      <th>776</th>\n",
       "      <td>399.83</td>\n",
       "      <td>0.03</td>\n",
       "      <td>1418.511</td>\n",
       "      <td>21.13430</td>\n",
       "    </tr>\n",
       "    <tr>\n",
       "      <th>777</th>\n",
       "      <td>NaN</td>\n",
       "      <td>NaN</td>\n",
       "      <td>NaN</td>\n",
       "      <td>NaN</td>\n",
       "    </tr>\n",
       "  </tbody>\n",
       "</table>\n",
       "<p>778 rows × 4 columns</p>\n",
       "</div>"
      ],
      "text/plain": [
       "      v_lsr   T_B      freq        wl\n",
       "0   -399.83 -0.07  1422.300  21.07800\n",
       "1   -398.80  0.11  1422.295  21.07808\n",
       "2   -397.77  0.01  1422.290  21.07815\n",
       "3   -396.74 -0.04  1422.285  21.07822\n",
       "4   -395.71  0.07  1422.281  21.07829\n",
       "5   -394.68  0.01  1422.276  21.07836\n",
       "6   -393.65 -0.05  1422.271  21.07844\n",
       "7   -392.62  0.04  1422.266  21.07851\n",
       "8   -391.59 -0.05  1422.261  21.07858\n",
       "9   -390.56  0.04  1422.256  21.07866\n",
       "10  -389.53  0.15  1422.251  21.07873\n",
       "11  -388.49 -0.08  1422.246  21.07880\n",
       "12  -387.46 -0.16  1422.242  21.07887\n",
       "13  -386.43 -0.00  1422.237  21.07894\n",
       "14  -385.40 -0.10  1422.232  21.07902\n",
       "15  -384.37 -0.02  1422.227  21.07909\n",
       "16  -383.34 -0.04  1422.222  21.07916\n",
       "17  -382.31 -0.05  1422.217  21.07923\n",
       "18  -381.28  0.02  1422.212  21.07931\n",
       "19  -380.25 -0.11  1422.207  21.07938\n",
       "20  -379.22  0.05  1422.203  21.07945\n",
       "21  -378.19 -0.04  1422.198  21.07952\n",
       "22  -377.16  0.03  1422.193  21.07960\n",
       "23  -376.13  0.17  1422.188  21.07967\n",
       "24  -375.10 -0.19  1422.183  21.07974\n",
       "25  -374.07 -0.13  1422.178  21.07981\n",
       "26  -373.04  0.21  1422.173  21.07988\n",
       "27  -372.01  0.07  1422.168  21.07996\n",
       "28  -370.98 -0.02  1422.163  21.08003\n",
       "29  -369.95 -0.07  1422.159  21.08010\n",
       "..      ...   ...       ...       ...\n",
       "748  370.98  0.01  1418.648  21.13227\n",
       "749  372.01  0.06  1418.643  21.13234\n",
       "750  373.04  0.07  1418.638  21.13241\n",
       "751  374.07 -0.01  1418.633  21.13248\n",
       "752  375.10 -0.18  1418.629  21.13256\n",
       "753  376.13  0.03  1418.624  21.13263\n",
       "754  377.16  0.04  1418.619  21.13270\n",
       "755  378.19 -0.13  1418.614  21.13277\n",
       "756  379.22 -0.11  1418.609  21.13285\n",
       "757  380.25  0.18  1418.604  21.13292\n",
       "758  381.28 -0.09  1418.599  21.13299\n",
       "759  382.31  0.01  1418.594  21.13306\n",
       "760  383.34 -0.07  1418.589  21.13314\n",
       "761  384.37 -0.11  1418.585  21.13321\n",
       "762  385.40  0.01  1418.580  21.13328\n",
       "763  386.43 -0.27  1418.575  21.13336\n",
       "764  387.46 -0.07  1418.570  21.13343\n",
       "765  388.49 -0.22  1418.565  21.13350\n",
       "766  389.53 -0.12  1418.560  21.13357\n",
       "767  390.56 -0.10  1418.555  21.13365\n",
       "768  391.59  0.02  1418.550  21.13372\n",
       "769  392.62 -0.03  1418.546  21.13379\n",
       "770  393.65  0.17  1418.541  21.13387\n",
       "771  394.68 -0.30  1418.536  21.13394\n",
       "772  395.71  0.06  1418.531  21.13401\n",
       "773  396.74 -0.07  1418.526  21.13408\n",
       "774  397.77 -0.19  1418.521  21.13416\n",
       "775  398.80 -0.08  1418.516  21.13423\n",
       "776  399.83  0.03  1418.511  21.13430\n",
       "777     NaN   NaN       NaN       NaN\n",
       "\n",
       "[778 rows x 4 columns]"
      ]
     },
     "execution_count": 16,
     "metadata": {},
     "output_type": "execute_result"
    }
   ],
   "source": [
    "data"
   ]
  },
  {
   "cell_type": "code",
   "execution_count": 17,
   "metadata": {
    "scrolled": true
   },
   "outputs": [
    {
     "name": "stdout",
     "output_type": "stream",
     "text": [
      "20 9.4 0.3 7.6\n",
      "21 15.5 0.5 7.1\n",
      "22 19.2 5.2 -4.5\n",
      "23 23.3 0.8 6.7\n",
      "24 60.3 4.7 -2.0\n",
      "25 0.0 0.0 8.5\n",
      "26 25.1 0.9 6.7\n",
      "27 -29.7 8.6 -8.4\n",
      "28 26.1 0.9 6.7\n",
      "29 24.4 6.3 -2.9\n",
      "30 26.9 1.0 6.8\n",
      "31 -19.1 8.5 -5.6\n",
      "32 26.1 6.6 -2.1\n",
      "33 23.9 6.8 -2.0\n",
      "34 55.3 5.9 -0.2\n",
      "35 -26.3 9.5 -5.0\n",
      "36 -32.2 10.0 -5.3\n",
      "37 -37.9 10.5 -5.5\n",
      "38 -32.1 10.2 -4.5\n",
      "39 -34.1 10.4 -4.3\n",
      "40 -27.4 10.0 -3.4\n",
      "41 -34.0 10.5 -3.6\n",
      "42 -36.1 10.7 -3.4\n",
      "43 68.5 4.8 3.4\n",
      "44 35.1 1.7 6.7\n",
      "45 -42.5 11.3 -2.8\n",
      "46 -40.4 11.2 -2.3\n",
      "47 -42.6 11.3 -2.1\n",
      "48 -44.8 11.5 -1.9\n",
      "49 -42.6 11.3 -1.3\n",
      "50 -44.9 11.5 -1.1\n",
      "51 -51.4 12.0 -1.3\n",
      "52 -49.3 11.8 -0.7\n",
      "53 -51.6 12.0 -0.5\n",
      "54 -53.8 12.1 -0.3\n",
      "55 -56.0 12.3 -0.1\n",
      "56 -58.2 12.4 0.1\n",
      "57 -60.4 12.6 0.3\n",
      "58 -58.4 12.3 0.8\n",
      "59 -56.2 12.0 1.3\n",
      "60 -58.4 12.1 1.5\n",
      "61 -60.6 12.2 1.7\n",
      "62 -62.8 12.4 1.9\n",
      "63 -60.6 12.0 2.4\n",
      "64 -62.8 12.1 2.6\n",
      "65 -64.9 12.2 2.8\n",
      "66 -53.4 11.0 3.6\n",
      "67 -60.3 11.5 3.6\n",
      "68 -57.8 11.1 4.0\n",
      "69 -64.5 11.7 4.0\n",
      "70 -66.5 11.8 4.2\n",
      "71 -64.1 11.4 4.6\n",
      "72 -70.4 11.9 4.6\n",
      "73 -49.3 9.6 5.6\n",
      "74 -65.5 11.1 5.3\n",
      "75 -71.8 11.6 5.4\n",
      "76 3.2 3.4 7.7\n",
      "77 -75.4 11.7 5.8\n",
      "78 -68.5 10.8 6.2\n",
      "79 4.1 1.5 8.2\n",
      "80 -6.1 3.9 7.8\n",
      "81 -1.6 3.0 8.0\n",
      "82 -42.3 7.4 7.5\n",
      "83 -44.1 7.4 7.6\n",
      "84 -40.9 7.0 7.8\n",
      "85 -37.6 6.5 7.9\n",
      "86 -39.3 6.5 8.0\n",
      "87 -16.9 4.0 8.3\n",
      "88 -42.6 6.5 8.3\n",
      "89 -24.4 4.5 8.4\n",
      "90 -45.6 6.5 8.5\n",
      "91 -91.0 11.5 8.7\n",
      "92 -92.0 11.5 8.9\n",
      "93 -44.9 6.0 8.8\n",
      "94 -46.2 6.0 8.9\n",
      "95 -42.4 5.5 9.0\n",
      "96 -43.7 5.5 9.1\n",
      "97 -39.8 5.0 9.1\n",
      "98 -30.8 4.0 9.1\n",
      "99 -31.8 4.0 9.1\n",
      "100 -57.9 6.4 9.6\n",
      "101 -49.0 5.4 9.6\n",
      "102 -50.0 5.4 9.6\n",
      "103 -50.9 5.4 9.7\n",
      "104 -46.7 4.9 9.7\n",
      "105 -47.5 4.8 9.8\n",
      "106 -53.2 5.3 10.0\n",
      "107 -49.0 4.8 10.0\n",
      "108 -49.6 4.8 10.0\n",
      "109 -45.2 4.3 10.0\n",
      "110 -91.7 9.4 11.9\n",
      "111 -91.8 9.3 12.1\n",
      "112 -91.8 9.3 12.2\n",
      "113 -42.2 3.7 10.1\n",
      "114 -47.7 4.1 10.3\n",
      "115 -94.6 9.5 12.9\n",
      "116 -94.4 9.4 13.1\n",
      "117 -48.7 4.0 10.5\n",
      "118 -44.0 3.5 10.4\n",
      "119 -49.2 3.9 10.7\n",
      "120 -49.3 3.9 10.8\n",
      "121 -44.6 3.4 10.6\n",
      "122 -92.0 8.9 14.1\n",
      "123 -12.0 0.8 9.0\n",
      "124 -39.9 2.9 10.5\n",
      "125 -39.9 2.9 10.5\n",
      "126 -39.9 2.8 10.6\n",
      "127 -44.7 3.2 10.9\n",
      "128 -44.6 3.2 11.0\n",
      "129 -39.7 2.7 10.7\n",
      "130 -39.6 2.7 10.8\n",
      "131 -48.3 3.4 11.5\n",
      "132 -52.0 3.7 11.8\n",
      "133 -43.4 2.9 11.2\n",
      "134 -43.1 2.9 11.3\n",
      "135 -38.4 2.5 11.0\n",
      "136 -42.3 2.8 11.4\n",
      "137 -33.2 2.0 10.7\n",
      "138 -37.2 2.3 11.1\n",
      "139 -36.8 2.3 11.1\n",
      "140 -40.3 2.6 11.6\n",
      "141 -43.3 2.8 12.0\n",
      "142 -42.7 2.8 12.0\n",
      "143 -34.7 2.1 11.3\n",
      "144 -30.3 1.8 10.9\n",
      "145 -29.7 1.7 11.0\n",
      "146 -29.2 1.7 11.0\n",
      "147 -35.6 2.2 11.9\n",
      "148 -31.5 1.9 11.5\n",
      "149 -30.8 1.8 11.5\n",
      "150 -33.2 2.0 12.0\n",
      "151 -29.3 1.7 11.6\n",
      "152 -28.5 1.6 11.6\n",
      "153 -33.2 2.0 12.5\n",
      "154 -26.9 1.5 11.7\n",
      "155 -31.1 1.9 12.6\n",
      "156 -30.0 1.8 12.6\n",
      "157 -29.0 1.8 12.6\n",
      "158 -29.9 1.9 13.1\n",
      "159 -28.6 1.8 13.2\n",
      "160 -30.7 2.1 14.1\n",
      "161 -26.2 1.6 13.2\n",
      "162 -23.2 1.4 12.8\n",
      "163 -14.4 0.7 10.9\n",
      "164 -8.9 0.4 9.9\n",
      "165 -8.4 0.4 10.0\n",
      "166 -7.9 0.4 10.0\n",
      "167 -23.2 1.7 15.8\n",
      "168 -18.0 1.1 13.9\n",
      "169 -16.5 1.1 13.9\n",
      "170 -11.2 0.6 12.0\n",
      "171 -16.2 1.2 15.9\n",
      "172 -15.4 1.2 16.9\n",
      "173 -7.9 0.4 12.0\n",
      "174 -2.4 0.1 9.5\n",
      "175 -6.2 0.3 12.5\n",
      "176 -4.0 0.2 11.5\n",
      "177 -6.1 0.5 18.0\n",
      "178 -5.0 0.5 24.0\n",
      "179 -0.0 0.0 8.5\n",
      "180 0.0 -0.0 8.5\n",
      "181 0.0 -0.0 8.5\n",
      "182 0.0 -0.0 8.5\n",
      "183 1.2 -0.1 9.5\n",
      "184 0.0 -0.0 8.5\n",
      "185 11.5 -1.1 21.0\n",
      "186 0.0 -0.0 8.5\n",
      "187 1.5 -0.1 9.0\n",
      "188 10.6 -0.6 13.0\n",
      "189 13.6 -0.9 13.9\n",
      "190 8.7 -0.4 11.0\n",
      "191 2.3 -0.1 9.0\n",
      "192 6.8 -0.3 10.0\n",
      "193 5.2 -0.2 9.5\n",
      "194 16.9 -1.0 12.4\n",
      "195 8.4 -0.4 10.0\n",
      "196 13.6 -0.7 10.9\n",
      "197 20.3 -1.2 12.3\n",
      "198 21.4 -1.2 12.3\n",
      "199 22.5 -1.3 12.3\n",
      "200 21.5 -1.2 11.8\n",
      "201 20.0 -1.1 11.3\n",
      "202 20.8 -1.1 11.3\n",
      "203 29.0 -1.8 12.6\n",
      "204 30.0 -1.8 12.6\n",
      "205 28.7 -1.7 12.1\n",
      "206 36.7 -2.4 13.4\n",
      "207 40.0 -2.7 13.9\n",
      "208 41.3 -2.8 13.8\n",
      "209 42.5 -2.9 13.8\n",
      "210 43.7 -3.0 13.7\n",
      "211 44.8 -3.1 13.6\n",
      "212 43.4 -2.9 13.2\n",
      "213 44.5 -3.0 13.1\n",
      "214 32.9 -2.0 11.4\n",
      "215 51.7 -3.7 13.8\n",
      "216 26.1 -1.5 10.5\n",
      "217 56.3 -4.2 14.1\n",
      "218 54.8 -4.0 13.6\n",
      "219 58.4 -4.4 13.9\n",
      "220 17.6 -1.0 9.7\n",
      "221 23.0 -1.3 10.0\n",
      "222 55.4 -4.0 13.0\n",
      "223 56.2 -4.1 12.9\n",
      "224 65.8 -5.2 13.9\n",
      "225 66.7 -5.3 13.8\n",
      "226 67.5 -5.4 13.7\n",
      "227 55.3 -4.0 12.3\n",
      "228 18.5 -1.1 9.5\n",
      "229 52.4 -3.8 11.8\n",
      "230 52.7 -3.8 11.7\n",
      "231 44.4 -3.1 11.0\n",
      "232 44.6 -3.2 11.0\n",
      "233 44.7 -3.2 10.9\n",
      "234 44.8 -3.2 10.9\n",
      "235 49.5 -3.7 11.1\n",
      "236 58.3 -4.6 11.6\n",
      "237 58.4 -4.6 11.5\n",
      "238 62.6 -5.1 11.7\n",
      "239 70.5 -6.0 12.1\n",
      "240 70.6 -6.1 12.0\n",
      "241 70.7 -6.1 11.9\n",
      "242 70.7 -6.2 11.8\n",
      "243 58.1 -4.9 11.0\n",
      "244 66.6 -5.8 11.4\n",
      "245 62.1 -5.4 11.0\n",
      "246 57.3 -5.0 10.7\n",
      "247 74.2 -6.9 11.4\n",
      "248 77.9 -7.4 11.5\n",
      "249 77.6 -7.5 11.4\n",
      "250 81.2 -8.0 11.4\n",
      "251 84.6 -8.5 11.4\n",
      "252 54.5 -5.2 10.2\n",
      "253 94.4 -10.0 11.6\n",
      "254 90.7 -9.6 11.3\n",
      "255 75.2 -7.7 10.6\n",
      "256 90.0 -9.7 10.9\n",
      "257 93.0 -10.2 10.9\n",
      "258 54.9 -5.9 9.7\n",
      "259 88.3 -9.8 10.4\n",
      "260 62.6 -6.9 9.7\n",
      "261 56.9 -6.4 9.5\n",
      "262 78.3 -8.9 9.8\n",
      "263 64.2 -7.4 9.4\n",
      "264 76.4 -9.0 9.4\n",
      "265 66.6 -8.0 9.2\n",
      "266 133.1 -19.0 9.8\n",
      "267 49.8 -6.5 8.8\n",
      "268 48.5 -6.5 8.7\n",
      "269 61.7 -8.0 8.6\n",
      "270 60.3 -8.0 8.5\n",
      "271 136.2 -20.5 8.1\n",
      "272 42.6 -6.5 8.3\n",
      "273 112.5 -15.5 7.7\n",
      "274 88.9 -12.0 7.7\n",
      "275 71.3 -10.0 7.6\n",
      "276 74.1 -10.4 7.4\n",
      "277 68.1 -9.9 7.3\n",
      "278 61.9 -9.4 7.2\n",
      "279 96.5 -13.8 6.3\n",
      "280 88.1 -12.8 6.2\n",
      "281 82.7 -12.3 6.1\n",
      "282 81.1 -12.2 5.9\n",
      "283 8.3 -4.9 7.4\n",
      "284 2.6 -4.4 7.4\n",
      "285 83.8 -13.0 5.0\n",
      "286 143.3 -26.0 1.1\n",
      "287 13.3 -6.2 6.6\n",
      "288 -10.8 -2.4 7.7\n",
      "289 23.9 -7.6 5.9\n",
      "290 -2.5 -5.2 6.6\n",
      "291 -11.1 -4.2 6.9\n",
      "292 71.0 -12.5 3.4\n",
      "293 90.9 -15.2 2.1\n",
      "294 75.0 -13.3 2.6\n",
      "295 93.5 -15.9 1.1\n",
      "296 122.7 -22.0 -2.2\n",
      "297 122.8 -22.3 -2.9\n",
      "298 121.2 -22.1 -3.2\n",
      "299 86.2 -15.3 0.0\n",
      "300 119.4 -22.1 -4.3\n",
      "301 117.7 -21.9 -4.6\n",
      "302 29.0 -9.8 2.4\n",
      "303 37.1 -10.5 1.7\n",
      "304 29.3 -10.0 1.8\n",
      "305 42.4 -11.1 0.8\n",
      "306 100.2 -18.6 -5.0\n",
      "307 85.1 -16.0 -3.5\n",
      "308 24.5 -9.9 0.8\n",
      "309 92.6 -17.5 -5.7\n",
      "310 102.8 -19.9 -8.2\n",
      "311 100.9 -19.6 -8.6\n",
      "312 30.7 -10.4 -0.9\n",
      "313 28.3 -10.2 -1.1\n",
      "314 -17.7 -7.6 1.2\n",
      "315 100.7 -20.5 -12.0\n",
      "316 -0.1 -0.0 8.5\n",
      "317 97.6 -20.1 -13.1\n",
      "318 -1.7 -8.4 -0.8\n",
      "319 -0.1 -0.0 8.5\n",
      "320 93.3 -19.6 -14.9\n",
      "321 -0.1 -0.0 8.5\n",
      "322 92.4 -20.0 -17.1\n",
      "323 -6.5 -0.3 8.1\n",
      "324 -44.9 -1.8 6.1\n",
      "325 1.0 -8.0 -3.0\n",
      "326 -46.4 -6.2 -0.6\n",
      "327 60.4 -12.8 -11.2\n",
      "328 32.1 -9.5 -6.8\n",
      "329 30.4 -9.3 -6.9\n",
      "330 31.8 -9.3 -7.5\n",
      "331 33.1 -9.2 -8.1\n",
      "332 34.1 -9.2 -8.7\n",
      "333 -51.9 -1.6 5.4\n",
      "334 -33.0 -1.1 6.2\n",
      "335 -17.5 -0.6 7.1\n",
      "336 -0.0 -0.0 8.5\n",
      "337 -61.9 -4.5 -2.1\n",
      "338 -13.0 -5.4 -4.9\n",
      "339 1.2 -5.7 -6.4\n"
     ]
    },
    {
     "data": {
      "image/png": "[encoded data removed]",
      "text/plain": [
       "<Figure size 432x288 with 1 Axes>"
      ]
     },
     "metadata": {
      "needs_background": "light"
     },
     "output_type": "display_data"
    }
   ],
   "source": [
    "# l < 20 derajat tidak digunakan\n",
    "for i in range(20,340):\n",
    "    file = 'data_rotasi/clean/rotation_b-0_l-'+str(i)+'.txt'\n",
    "    data = pd.read_fwf(file,usecols=[1,5,6], names=['v_rot', 'x','y'])\n",
    "    list_vr = data['v_rot'].values.tolist()\n",
    "    #print(list_vr)\n",
    "    lam = min(list_vr, key=lambda x:abs(x-v_rmax[i]))\n",
    "    #print(vr_maxima[i], lam)\n",
    "    x = data.loc[data['v_rot'] == lam, 'x'].iloc[0]\n",
    "    y = data.loc[data['v_rot'] == lam, 'y'].iloc[0]\n",
    "    print(i,lam,x,y)\n",
    "    plt.scatter(x,y)\n",
    "plt.title('Lengan Spiral Milky Way')\n",
    "plt.xlabel('x (kpc)')\n",
    "plt.ylabel('y (kpc)')\n",
    "save = 'data_rotasi/image/'+'-'+str(i)+'.jpg'\n",
    "plt.savefig(save)"
   ]
  },
  {
   "cell_type": "code",
   "execution_count": null,
   "metadata": {},
   "outputs": [],
   "source": []
  }
 ],
 "metadata": {
  "kernelspec": {
   "display_name": "Python 3",
   "language": "python",
   "name": "python3"
  },
  "language_info": {
   "codemirror_mode": {
    "name": "ipython",
    "version": 3
   },
   "file_extension": ".py",
   "mimetype": "text/x-python",
   "name": "python",
   "nbconvert_exporter": "python",
   "pygments_lexer": "ipython3",
   "version": "3.7.1"
  }
 },
 "nbformat": 4,
 "nbformat_minor": 2
}
